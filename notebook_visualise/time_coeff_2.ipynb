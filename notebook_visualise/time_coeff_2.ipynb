{
 "cells": [
  {
   "attachments": {},
   "cell_type": "markdown",
   "metadata": {},
   "source": [
    "# Visulise how the importance of a POD mode changes with latent variables\n",
    "Plot the change as a contour plot for two latent variables, from a trained standard autoencoder."
   ]
  },
  {
   "cell_type": "code",
   "execution_count": 1,
   "metadata": {},
   "outputs": [],
   "source": [
    "import sys\n",
    "sys.path.append('..')\n",
    "import h5py\n",
    "import numpy as np\n",
    "from numpy import einsum\n",
    "import matplotlib.pyplot as plt\n",
    "from mpl_toolkits.axes_grid1 import ImageGrid\n",
    "\n",
    "import configparser\n",
    "from pathlib import Path\n",
    "from scipy import interpolate\n",
    "from scipy.stats import gaussian_kde\n",
    "\n",
    "import tensorflow as tf\n",
    "tf.keras.backend.set_floatx('float32')\n",
    "from tensorflow.keras.losses import MeanSquaredError\n",
    "mse = MeanSquaredError()\n",
    "\n",
    "import MD_AE_tools.models.models as mdl_bias\n",
    "import MD_AE_tools.models.models_no_bias as mdl_nobias\n",
    "from project_specific_utils.helpers import GetAttr\n",
    "import MD_AE_tools.mode_decomposition as md\n",
    "import MD_AE_tools.ae_mode_selection as ranking\n",
    "import MD_AE_tools.ae_mode_evaluation as mode_eval\n",
    "from project_specific_utils.data_and_train import TrainNN_from_config, train_autoencder\n",
    "from project_specific_utils import plot as myplot\n",
    "\n",
    "config = configparser.ConfigParser()\n",
    "config.read('./_system.ini')\n",
    "results_dir = config['system_info']['alternate_location']\n",
    "\n",
    "gpus = tf.config.list_physical_devices('GPU')\n",
    "if gpus:\n",
    "    try:\n",
    "        tf.config.set_visible_devices(gpus[2], 'GPU')# use [] for cpu only, gpus[i] for the ith gpu\n",
    "        # tf.config.set_logical_device_configuration(gpus[0], [tf.config.LogicalDeviceConfiguration(memory_limit=1024)]) \n",
    "    except RuntimeError as e:\n",
    "        # Visible devices must be set before GPUs have been initialized\n",
    "        print(e)"
   ]
  },
  {
   "attachments": {},
   "cell_type": "markdown",
   "metadata": {},
   "source": [
    "# Load saved data"
   ]
  },
  {
   "cell_type": "code",
   "execution_count": 2,
   "metadata": {},
   "outputs": [
    {
     "name": "stdout",
     "output_type": "stream",
     "text": [
      "2mode-regularised-1-764454  2mode-regularised-3-764456\n",
      "2mode-regularised-2-764455\n"
     ]
    }
   ],
   "source": [
    "parent_folder = Path(results_dir,'experiment_standard_nonlinear')\n",
    "# parent_folder = Path(results_dir,'experiment_linear_samedata')\n",
    "!ls -v $parent_folder\n",
    "folder_list = ! ls -v $parent_folder\n",
    "# !tail -n 5 $parent_folder/*/log"
   ]
  },
  {
   "cell_type": "code",
   "execution_count": 3,
   "metadata": {},
   "outputs": [
    {
     "name": "stdout",
     "output_type": "stream",
     "text": [
      "MSE of traning is:  1.2085645\n"
     ]
    },
    {
     "name": "stderr",
     "output_type": "stream",
     "text": [
      "2023-01-04 15:23:38.618899: I tensorflow/core/platform/cpu_feature_guard.cc:151] This TensorFlow binary is optimized with oneAPI Deep Neural Network Library (oneDNN) to use the following CPU instructions in performance-critical operations:  AVX2 AVX512F FMA\n",
      "To enable them in other operations, rebuild TensorFlow with the appropriate compiler flags.\n",
      "2023-01-04 15:23:39.547365: I tensorflow/core/common_runtime/gpu/gpu_device.cc:1525] Created device /job:localhost/replica:0/task:0/device:GPU:0 with 47217 MB memory:  -> device: 2, name: Quadro RTX 8000, pci bus id: 0000:a6:00.0, compute capability: 7.5\n"
     ]
    }
   ],
   "source": [
    "folder = folder_list[1]\n",
    "folder_path = Path(parent_folder,folder)\n",
    "filename = Path(folder_path,'training_param.ini')\n",
    "mdl_config = TrainNN_from_config(filename)\n",
    "\n",
    "filename = Path(folder_path,'results.h5')\n",
    "with h5py.File(filename,'r') as hf:\n",
    "    u_train = np.array(hf.get('u_train'))\n",
    "    u_all = np.array(hf.get('u_all'))\n",
    "    y_train = np.array(hf.get('y_train'))\n",
    "    u_test = np.array(hf.get('u_test'))\n",
    "    modes_train = np.array(hf.get('modes_train'))\n",
    "    modes_test = np.array(hf.get('modes_test'))\n",
    "    latent_train = np.array(hf.get('latent_train'))\n",
    "    latent_test = np.array(hf.get('latent_test'))\n",
    "\n",
    "    u_test_mean = np.array(hf.get('u_avg_test'))\n",
    "\n",
    "print('MSE of traning is: ', mse(u_train,y_train).numpy())"
   ]
  },
  {
   "cell_type": "code",
   "execution_count": null,
   "metadata": {},
   "outputs": [
    {
     "name": "stdout",
     "output_type": "stream",
     "text": [
      "MSE of traning is:  1.2085645\n"
     ]
    },
    {
     "name": "stderr",
     "output_type": "stream",
     "text": [
      "2023-01-04 15:23:38.618899: I tensorflow/core/platform/cpu_feature_guard.cc:151] This TensorFlow binary is optimized with oneAPI Deep Neural Network Library (oneDNN) to use the following CPU instructions in performance-critical operations:  AVX2 AVX512F FMA\n",
      "To enable them in other operations, rebuild TensorFlow with the appropriate compiler flags.\n",
      "2023-01-04 15:23:39.547365: I tensorflow/core/common_runtime/gpu/gpu_device.cc:1525] Created device /job:localhost/replica:0/task:0/device:GPU:0 with 47217 MB memory:  -> device: 2, name: Quadro RTX 8000, pci bus id: 0000:a6:00.0, compute capability: 7.5\n"
     ]
    }
   ],
   "source": [
    "# ============= For ff_ae ==================\n",
    "\n",
    "from project_specific_utils.ff_ae import Train_ff_ae\n",
    "folder = folder_list[1]\n",
    "folder_path = Path(parent_folder,folder)\n",
    "filename = Path(folder_path,'training_param.ini')\n",
    "model_class = Train_ff_ae()\n",
    "mdl_config = model_class.import_config(filename)\n",
    "\n",
    "with h5py.File(Path('../data/ufluc_shuffle_1632'),'r') as hf:\n",
    "    u_all = np.squeeze(np.array(hf.get('u_all'))).astype('float32')"
   ]
  },
  {
   "cell_type": "code",
   "execution_count": 4,
   "metadata": {},
   "outputs": [
    {
     "name": "stdout",
     "output_type": "stream",
     "text": [
      "Calculating POD ...\n",
      "Use classic POD, Nx <= Nt.\n"
     ]
    },
    {
     "name": "stderr",
     "output_type": "stream",
     "text": [
      "/home/ym917/Codes/MD-CNN-AE/MD_AE_tools/mode_decomposition.py:220: RuntimeWarning: invalid value encountered in sqrt\n",
      "  normQ = (Q_POD.T @ Q_POD*self.w).real**0.5\n"
     ]
    },
    {
     "name": "stdout",
     "output_type": "stream",
     "text": [
      "POD done.\n",
      "MSE reconstructed with 2 modes is:  1.4777343273162842\n",
      "Calculating POD ...\n",
      "User has selected classic POD\n",
      "POD done.\n"
     ]
    },
    {
     "data": {
      "image/png": "[encoded data removed]",
      "text/plain": [
       "<Figure size 432x288 with 8 Axes>"
      ]
     },
     "metadata": {
      "needs_background": "light"
     },
     "output_type": "display_data"
    }
   ],
   "source": [
    "# data \n",
    "x = einsum('t y z u -> y z t u',np.squeeze(u_all))\n",
    "X = np.vstack((x[:,:,:,0],x[:,:,:,1]))\n",
    "pod = md.POD(X)\n",
    "Q_POD,lam_data = pod.get_modes\n",
    "Q_mean = pod.Q_mean\n",
    "X_reconstructed = pod.reconstruct(2,shape=X.shape)\n",
    "print('MSE reconstructed with 2 modes is: ', mse(X,X_reconstructed).numpy())\n",
    "\n",
    "phi1 = Q_POD[:,0].reshape((42,24))\n",
    "phi2 = Q_POD[:,1].reshape((42,24))\n",
    "fig = plt.figure()\n",
    "fig.suptitle('POD modes of the training set')\n",
    "plt.subplot(221)\n",
    "plt.imshow(phi1[:21,:],'jet')\n",
    "plt.colorbar()\n",
    "plt.subplot(223)\n",
    "plt.imshow(phi1[21:,:],'jet')\n",
    "plt.colorbar()\n",
    "plt.subplot(222)\n",
    "plt.imshow(phi2[:21,:],'jet')\n",
    "plt.colorbar()\n",
    "plt.subplot(224)\n",
    "plt.imshow(phi2[21:,:],'jet')\n",
    "plt.colorbar()\n",
    "\n",
    "# x_test = einsum('t y z u -> y z t u',np.squeeze(u_test))\n",
    "# X_test = np.vstack((x_test[:,:,:,0],x_test[:,:,:,1]))\n",
    "# pod_test = md.POD(X_test,method='classic')\n",
    "# A_test = pod_test.get_time_coefficient\n",
    "# Q_POD_test, lam_data_test = pod_test.get_modes\n",
    "\n",
    "plt.show()"
   ]
  },
  {
   "attachments": {},
   "cell_type": "markdown",
   "metadata": {},
   "source": [
    "# How b varies with z1 and z2\n",
    "Cannot visualise the full effect if b depends on more than two variables."
   ]
  },
  {
   "cell_type": "code",
   "execution_count": 5,
   "metadata": {},
   "outputs": [],
   "source": [
    "from MD_AE_tools.models import model_evaluation\n",
    "from tensorflow.keras.optimizers import Adam"
   ]
  },
  {
   "cell_type": "code",
   "execution_count": 6,
   "metadata": {},
   "outputs": [
    {
     "name": "stderr",
     "output_type": "stream",
     "text": [
      "2023-01-04 15:23:43.984726: I tensorflow/stream_executor/cuda/cuda_dnn.cc:366] Loaded cuDNN version 8204\n"
     ]
    },
    {
     "name": "stdout",
     "output_type": "stream",
     "text": [
      "51/51 [==============================] - 4s 7ms/step - loss: 1.8584\n",
      "51/51 [==============================] - 0s 7ms/step - loss: 1.2227\n"
     ]
    }
   ],
   "source": [
    "mdl = mdl_nobias.Autoencoder(Nx=mdl_config.Nx,Nu=mdl_config.Nu,\n",
    "                            features_layers=mdl_config.features_layers,\n",
    "                            latent_dim=mdl_config.latent_dim,\n",
    "                            filter_window=mdl_config.filter_window,\n",
    "                            act_fct=mdl_config.act_fct,\n",
    "                            batch_norm=mdl_config.BATCH_NORM,\n",
    "                            drop_rate=mdl_config.drop_rate,\n",
    "                            lmb=mdl_config.lmb,\n",
    "                            resize_meth=mdl_config.resize_meth)\n",
    "mdl.compile(optimizer=Adam(learning_rate=mdl_config.learning_rate),loss='mse')\n",
    "mdl.evaluate(np.squeeze(u_train),np.squeeze(u_train))\n",
    "\n",
    "# ==============================================\n",
    "filename = Path(folder_path,'md_ae_model.h5')\n",
    "mdl.load_weights(filename)\n",
    "mdl.evaluate(np.squeeze(u_train),np.squeeze(u_train))\n",
    "\n",
    "# ===============================================\n",
    "decoder = mdl.decoder"
   ]
  },
  {
   "cell_type": "code",
   "execution_count": null,
   "metadata": {},
   "outputs": [],
   "source": [
    "# ============= For ff_ae =============================\n",
    "filename = Path(folder_path,'weights.h5')\n",
    "model_class.make_model()\n",
    "mdl = model_class.get_model\n",
    "mdl.summary()\n",
    "mdl.load_weights(filename)"
   ]
  },
  {
   "cell_type": "code",
   "execution_count": 7,
   "metadata": {},
   "outputs": [
    {
     "name": "stdout",
     "output_type": "stream",
     "text": [
      "500\n"
     ]
    }
   ],
   "source": [
    "gridx,gridy = (1001,1001)\n",
    "z1 = np.linspace(-0.8,0.8,gridx).astype('float32')\n",
    "z2 = np.linspace(-0.8,0.8,gridy).astype('float32')\n",
    "idx_z2_0 = np.squeeze(np.argwhere(np.abs(z2-0)<1.19209e-07))\n",
    "print(idx_z2_0)\n",
    "zx,zy = np.meshgrid(z1,z2)"
   ]
  },
  {
   "cell_type": "code",
   "execution_count": 9,
   "metadata": {},
   "outputs": [
    {
     "name": "stdout",
     "output_type": "stream",
     "text": [
      "WARNING:tensorflow:Using a while_loop for converting ResizeBilinearGrad\n",
      "WARNING:tensorflow:Using a while_loop for converting ResizeBilinearGrad\n",
      "WARNING:tensorflow:Using a while_loop for converting ResizeBilinearGrad\n",
      "WARNING:tensorflow:Using a while_loop for converting ResizeBilinearGrad\n",
      "WARNING:tensorflow:Using a while_loop for converting ResizeBilinearGrad\n",
      "WARNING:tensorflow:Using a while_loop for converting ResizeBilinearGrad\n"
     ]
    }
   ],
   "source": [
    "### compute derivatives in batches\n",
    "batch_size = 60\n",
    "dy_dz = []\n",
    "\n",
    "# hold z1 constant, change z2\n",
    "for i in range(len(z1)):\n",
    "    dy_dz_i = []\n",
    "    t = 0\n",
    "    # for j in range(len(z2)):\n",
    "    while (t+batch_size) < len(z2):\n",
    "\n",
    "        # print(f'in this batch t={t} to {t+batch_size}')\n",
    "        # print(tf.stack([zx[t:t+batch_size,i],zy[t:t+batch_size,0]],axis=1)[:3,...])\n",
    "\n",
    "        gradients = model_evaluation.get_gradient_m_z(\n",
    "            tf.stack([zx[t:t+batch_size,i],zy[t:t+batch_size,0]],axis=1),\n",
    "            decoder\n",
    "        ) # [batch,....,z]\n",
    "\n",
    "        dy_dz_i.append(gradients)\n",
    "\n",
    "        t = t + batch_size\n",
    "    \n",
    "    # print(f'in this batch t={t} to {len(z2)}')\n",
    "    gradients = model_evaluation.get_gradient_m_z(tf.stack([zx[t:,0],zy[t:,0]],axis=1),decoder) \n",
    "\n",
    "    dy_dz_i.append(gradients)\n",
    "\n",
    "    dy_dz.append(np.vstack(dy_dz_i))\n",
    "\n",
    "dy_dz = np.array(dy_dz) # (no.of z1, z2, ny, nz, nu, latent_dim)"
   ]
  },
  {
   "cell_type": "code",
   "execution_count": null,
   "metadata": {},
   "outputs": [],
   "source": [
    "def get_dB_dz(dy_dz,pod_modes):\n",
    "    dy_dz_vector = []\n",
    "    dy_dz_temp = einsum('k t y z u -> k y z t u', dy_dz) # rearrange the same way as preparing for pod\n",
    "\n",
    "    for i in range(dy_dz.shape[0]):\n",
    "        dy_dz_reshape = np.vstack((dy_dz_temp[i,:,:,:,0], dy_dz_temp[i,:,:,:,1]))\n",
    "        dy_dz_reshape = np.reshape(dy_dz_reshape,(-1, dy_dz.shape[1]))\n",
    "        dy_dz_vector.append(dy_dz_reshape)\n",
    "\n",
    "    dy_dz_vector = np.array(dy_dz_vector) # shape[no of z1,modes,no of z2]\n",
    "\n",
    "    dB_dz = []\n",
    "    for i in range(dy_dz.shape[0]):\n",
    "        dB_dz.append(pod_modes.T @ dy_dz_vector[i,...])\n",
    "    dB_dz = np.array(dB_dz) # [no of z1, modes, no of z2]\n",
    "    \n",
    "    return dB_dz"
   ]
  },
  {
   "cell_type": "code",
   "execution_count": null,
   "metadata": {},
   "outputs": [],
   "source": [
    "dB_dz1 = get_dB_dz(dy_dz=dy_dz[...,0],pod_modes=Q_POD)\n",
    "dB_dz2 = get_dB_dz(dy_dz=dy_dz[...,1],pod_modes=Q_POD)\n",
    "dB_dz1.shape"
   ]
  },
  {
   "attachments": {},
   "cell_type": "markdown",
   "metadata": {},
   "source": [
    "## Reference values\n",
    "Check the results from both post processing and gradents matches"
   ]
  },
  {
   "cell_type": "code",
   "execution_count": null,
   "metadata": {},
   "outputs": [],
   "source": [
    "## predict z2 = 0\n",
    "m = 1\n",
    "z1_z2_0 = np.stack([zx[0,:],zy[idx_z2_0,:]],axis=1)\n",
    "ref_ae_modes = mdl.decoder.predict(z1_z2_0)\n",
    "print(ref_ae_modes.shape)\n",
    "\n",
    "\n",
    "x_train = einsum('t y z u -> y z t u', ref_ae_modes)\n",
    "b0_ref = []\n",
    "\n",
    "X_train = np.vstack((x_train[:,:,:,0], x_train[:,:,:,1]))\n",
    "X_train = np.reshape(X_train,(-1, len(z1)))\n",
    "b0_ref = einsum('x t, x m -> t m', X_train, Q_POD)\n",
    "print(b0_ref.shape) # [no of z1, no of pod modes]\n",
    "\n",
    "b0 = model_evaluation.one_step_integrate(z1,dB_dz1[:,m,idx_z2_0],0,0,z1[1]-z1[0])\n",
    "\n",
    "plt.figure()\n",
    "plt.plot(z1,b0_ref[:,m],label='post process')\n",
    "plt.plot(z1,b0,label='from gradient')\n",
    "plt.title(f'b{m+1} ({m+1}st pod mode) at z2=0')\n",
    "plt.xlabel('z1')\n",
    "plt.show()\n"
   ]
  },
  {
   "attachments": {},
   "cell_type": "markdown",
   "metadata": {},
   "source": [
    "## Calculate from gradients\n",
    "First, calculate b(z1,0), which is b(z1,z2) at z2 = 0, by integrating (db/dz1) at z2 = 0"
   ]
  },
  {
   "cell_type": "code",
   "execution_count": null,
   "metadata": {},
   "outputs": [],
   "source": [
    "b0 = model_evaluation.one_step_integrate(z1,dB_dz1[:,0,idx_z2_0],0,0,z1[1]-z1[0])\n",
    "\n",
    "B0 = []\n",
    "for i in range(10):\n",
    "    B0.append(\n",
    "      model_evaluation.one_step_integrate(z1,dB_dz1[:,i,idx_z2_0],0,0,z1[1]-z1[0])\n",
    "    )\n",
    "B0 = np.array(B0)\n",
    "B0.shape # [pod mode, no of z1 points]"
   ]
  },
  {
   "attachments": {},
   "cell_type": "markdown",
   "metadata": {},
   "source": [
    "Now calculate b(z1,z2) at different z1, using b(z1,0) calculated in the last step as the initial condition."
   ]
  },
  {
   "cell_type": "code",
   "execution_count": null,
   "metadata": {},
   "outputs": [],
   "source": [
    "which_pod_mode_b = 0\n",
    "B_grad = []\n",
    "for i in range(len(z1)):\n",
    "    B_perz2 = model_evaluation.one_step_integrate(\n",
    "        z2, dB_dz2[i,which_pod_mode_b,:], 0, B0[which_pod_mode_b,i], z2[1]-z2[0]\n",
    "    )\n",
    "    B_grad.append(B_perz2)\n",
    "B_grad = np.array(B_grad)\n",
    "print(B_grad.shape)\n",
    "\n",
    "\n",
    "plt.figure()\n",
    "ax = plt.subplot(111,aspect=(max(z2)-min(z2))/(max(z1)-min(z1)))\n",
    "cs = ax.contour(zx,zy,B_grad.T,levels=10)\n",
    "# plt.colorbar(cs,ax=ax)\n",
    "plt.clabel(cs)\n",
    "plt.title(f'How b{which_pod_mode_b+1} varies with z1 and z2.')\n",
    "plt.xlabel('z1')\n",
    "plt.ylabel('z2')\n",
    "plt.grid()\n",
    "plt.show()"
   ]
  },
  {
   "cell_type": "code",
   "execution_count": null,
   "metadata": {},
   "outputs": [],
   "source": []
  }
 ],
 "metadata": {
  "kernelspec": {
   "display_name": "MD-CNN-AE",
   "language": "python",
   "name": "python3"
  },
  "language_info": {
   "codemirror_mode": {
    "name": "ipython",
    "version": 3
   },
   "file_extension": ".py",
   "mimetype": "text/x-python",
   "name": "python",
   "nbconvert_exporter": "python",
   "pygments_lexer": "ipython3",
   "version": "3.9.7 (default, Sep 16 2021, 13:09:58) \n[GCC 7.5.0]"
  },
  "orig_nbformat": 4,
  "vscode": {
   "interpreter": {
    "hash": "f85e8d5ca1c7d62daa514db97b690def00c9e189bf201b0a2c929de67d960fcf"
   }
  }
 },
 "nbformat": 4,
 "nbformat_minor": 2
}
