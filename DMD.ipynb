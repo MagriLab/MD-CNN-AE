{
 "cells": [
  {
   "cell_type": "code",
   "execution_count": 1,
   "metadata": {},
   "outputs": [],
   "source": [
    "import numpy as np\n",
    "import matplotlib.pyplot as plt\n",
    "import h5py"
   ]
  },
  {
   "cell_type": "code",
   "execution_count": 2,
   "metadata": {},
   "outputs": [],
   "source": [
    "def DMD(X,Xprime,r):\n",
    "    # X: [x0, x1 ... xn-1]\n",
    "    # Xprime: [x1, x2, ... xn]\n",
    "    # r: how many modes to keep. r <= rank(Sigma), r<=n\n",
    "    U,Sigma,VT = np.linalg.svd(X,full_matrices=0) # Step 1\n",
    "    Ur = U[:,:r]\n",
    "    Sigmar = np.diag(Sigma[:r])\n",
    "    VTr = VT[:r,:]\n",
    "    Atilde = np.linalg.solve(Sigmar.T,(Ur.T @ Xprime @ VTr.T).T).T # Step 2\n",
    "    Lambda, W = np.linalg.eig(Atilde) # Step 3\n",
    "    Lambda = np.diag(Lambda)\n",
    "    \n",
    "    Phi = Xprime @ np.linalg.solve(Sigmar.T,VTr).T @ W # Step 4\n",
    "    alpha1 = Sigmar @ VTr[:,0]\n",
    "    b = np.linalg.solve(W @ Lambda,alpha1)\n",
    "\n",
    "    # sort modes based on their contribution ('amplitude')\n",
    "    idx = np.argsort(np.abs(b))\n",
    "    idx = np.flip(idx)\n",
    "    b = b[idx]\n",
    "    Lambda = np.diag(np.diag(Lambda)[idx])\n",
    "    Phi = Phi[:,idx]\n",
    "    \n",
    "    return Phi, Lambda, b"
   ]
  },
  {
   "cell_type": "code",
   "execution_count": 3,
   "metadata": {},
   "outputs": [
    {
     "name": "stdout",
     "output_type": "stream",
     "text": [
      "Finished loading data.\n",
      "(21, 24, 2732)\n"
     ]
    }
   ],
   "source": [
    "#=================== downsampled data ======================\n",
    "filename = \"./PIV4_downsampled_by8.h5\" # .h5 file of data\n",
    "hf = h5py.File(filename,'r')\n",
    "z = np.array(hf.get('z'))\n",
    "y = np.array(hf.get('y'))\n",
    "vy = np.array(hf.get('vy'))\n",
    "vz = np.array(hf.get('vz'))\n",
    "hf.close()\n",
    "print(\"Finished loading data.\")\n",
    "# print(vy.shape)\n",
    "[nt,nz,ny] = vz.shape\n",
    "\n",
    "# remove mean\n",
    "# vy = vy - np.mean(vy,0)\n",
    "# vz = vz - np.mean(vz,0)\n",
    "\n",
    "vy = np.transpose(vy,[2,1,0])\n",
    "vz = np.transpose(vz,[2,1,0]) #(ny,nz,nt)\n",
    "\n",
    "\n",
    "dt = 1*(1./720)\n",
    "print(vy.shape)"
   ]
  },
  {
   "cell_type": "code",
   "execution_count": null,
   "metadata": {},
   "outputs": [],
   "source": [
    "#=================== autoencoder data =====================\n",
    "filename = '../../../Scripts/PIV/Autoencoder/MD_2__2022_02_02__16_51_24/results.h5'\n",
    "hf = h5py.File(filename,'r')\n",
    "decomp_test = np.array(hf.get('modes_test'))\n",
    "hf.close()\n",
    "print(\"Finished loading data.\")\n",
    "[latent_dim,nt,ny,nz,nu] = decomp_test.shape\n",
    "print(latent_dim,nt,ny,nz,nu)\n",
    "\n",
    "WhichDecoder = 0\n",
    "vy = decomp_test[WhichDecoder,:,:,:,0].astype('float64')\n",
    "vy = np.transpose(vy,[1,2,0])\n",
    "vz = decomp_test[WhichDecoder,:,:,:,1].astype('float64')\n",
    "vz = np.transpose(vz,[1,2,0]) # (ny,nz,nt)\n",
    "dt = 1*(1./720)"
   ]
  },
  {
   "cell_type": "code",
   "execution_count": 5,
   "metadata": {},
   "outputs": [
    {
     "name": "stdout",
     "output_type": "stream",
     "text": [
      "Snapshot matrix, shape:  (1008, 2732)\n"
     ]
    }
   ],
   "source": [
    "#==================== prepare data =========================\n",
    "# build matrix\n",
    "X = np.vstack((vz,vy)) # new shape [2*ny,nz,nt]\n",
    "X = np.reshape(X,(2*nz*ny,nt)) # [2*ny*nz,nt]\n",
    "# X = X[:,::1]\n",
    "# dt = 1*dt\n",
    "print(\"Snapshot matrix, shape: \",X.shape)"
   ]
  },
  {
   "cell_type": "code",
   "execution_count": 15,
   "metadata": {},
   "outputs": [
    {
     "name": "stdout",
     "output_type": "stream",
     "text": [
      "(1008, 1008) (1008, 1008) (1008,)\n"
     ]
    }
   ],
   "source": [
    "#================================ DMD ========================\n",
    "Phi,Lambda,b = DMD(X[:,:-1],X[:,1:],1008) # mode, frequency and damping, contribution = DMD(X,X',how many modes)\n",
    "print(Phi.shape,Lambda.shape,b.shape)"
   ]
  },
  {
   "cell_type": "code",
   "execution_count": null,
   "metadata": {},
   "outputs": [],
   "source": [
    "#======================== Plot Mode =========================\n",
    "mode = np.reshape(Phi,(2*ny,nz,-1))\n",
    "mode_z = mode[:ny,:,:].real # X was built vstack(vz,vy)\n",
    "mode_y = mode[ny:,:,:].real # has shape [ny,nz,modes]\n",
    "\n",
    "whichmode = 0\n",
    "whichvelocity = 'v'\n",
    "plt.figure()\n",
    "if whichvelocity == 'w':\n",
    "    plt.imshow(mode_z[:,:,whichmode],'jet')\n",
    "else:\n",
    "    plt.imshow(mode_y[:,:,whichmode],'jet')\n",
    "# plt.title('decoder '+str(WhichDecoder+1))\n",
    "plt.show()\n",
    "print(np.diag(Lambda)[whichmode])\n",
    "\n",
    "plt.suptitle(\"DMD modes in decoder \" + str(WhichDecoder+1) + \", \" + whichvelocity)\n",
    "# plt.suptitle(\"DMD modes \"+ whichvelocity)\n",
    "lam = np.diag(Lambda)\n",
    "lam_r = np.abs(lam)\n",
    "lam_f = np.angle(lam)/(2*np.pi)/dt\n",
    "for i in range(9):\n",
    "    title = str(i+1)+', a='+str(np.around(lam_r[i],decimals=2))+\" f=\"+str(np.around(lam_f[i],1))\n",
    "    # title = str(i+1)+',λ='+str(np.around(np.diag(Lambda)[i],decimals=3))\n",
    "    ax = plt.subplot(3,3,i+1,title=title,xticks=[],yticks=[])\n",
    "    if whichvelocity == 'w': # Q was built [vz,vy]\n",
    "        pltV = mode_z[:,:,i]\n",
    "    elif whichvelocity == 'v':\n",
    "        pltV = mode_y[:,:,i]\n",
    "    \n",
    "    ax = plt.imshow(pltV,'jet')\n",
    "    plt.colorbar()\n",
    "plt.show()"
   ]
  },
  {
   "cell_type": "code",
   "execution_count": null,
   "metadata": {},
   "outputs": [],
   "source": [
    "print(np.abs(np.diag(Lambda)))"
   ]
  },
  {
   "cell_type": "code",
   "execution_count": 12,
   "metadata": {},
   "outputs": [
    {
     "data": {
      "image/png": "[encoded data removed]",
      "text/plain": [
       "<Figure size 432x288 with 2 Axes>"
      ]
     },
     "metadata": {
      "needs_background": "light"
     },
     "output_type": "display_data"
    },
    {
     "name": "stdout",
     "output_type": "stream",
     "text": [
      "[ 360.         -205.65737674  205.65737674 ... -313.61625807 -347.69663619\n",
      "  347.69663619]\n",
      "[1.38260783e+03 7.85284077e+02 7.85284077e+02 ... 3.99773028e-01\n",
      " 3.32153908e-01 3.32153908e-01]\n"
     ]
    }
   ],
   "source": [
    "# eigenvalue plot, temporal behaviour\n",
    "lam = np.diag(Lambda)\n",
    "lam_r = np.abs(lam)\n",
    "lam_f = np.angle(lam)/(2*np.pi)/dt\n",
    "# max_fq = max(lam_f)\n",
    "b_r = np.abs(b)\n",
    "plt.figure()\n",
    "# plt.scatter(lam_f,lam_r)\n",
    "plt.scatter(lam_f,lam_r,c=b_r,cmap='Blues',vmin=0,vmax=max(b_r))\n",
    "plt.colorbar(label='|b|',ticks=[])\n",
    "plt.xlabel('freqency')\n",
    "plt.ylabel('|λ|')\n",
    "plt.title('Eigenvalues')\n",
    "plt.yticks([0,1])\n",
    "# plt.hlines(1,0,360,colors='k',linestyles='dotted')\n",
    "plt.xlim(left=0)\n",
    "plt.show()\n",
    "print(lam_f)\n",
    "print(b_r)"
   ]
  },
  {
   "cell_type": "code",
   "execution_count": 14,
   "metadata": {},
   "outputs": [
    {
     "data": {
      "image/png": "[encoded data removed]",
      "text/plain": [
       "<Figure size 432x288 with 1 Axes>"
      ]
     },
     "metadata": {
      "needs_background": "light"
     },
     "output_type": "display_data"
    }
   ],
   "source": [
    "# amplitude\n",
    "idx_freq = np.argsort(lam_f)\n",
    "lam_f_sorted = lam_f[idx_freq]\n",
    "\n",
    "b_r = np.abs(b)\n",
    "b_r_sorted = b_r[idx_freq]\n",
    "max_fq = max(lam_f)\n",
    "plt.figure()\n",
    "# plt.plot(lam_f_sorted,b_r_sorted)\n",
    "plt.bar(lam_f_sorted,b_r_sorted,width=700/1008)\n",
    "plt.xlabel('freqency')\n",
    "plt.ylabel('|b|')\n",
    "plt.title('Amplitude, contribution')\n",
    "# plt.xticks([])\n",
    "plt.xlim(left=0)\n",
    "plt.yticks([0])\n",
    "plt.show()"
   ]
  }
 ],
 "metadata": {
  "interpreter": {
   "hash": "6df908de1f4850b5dcb2ce91888b76129a7e151e6ab8f38caf16f5b794c79bc1"
  },
  "kernelspec": {
   "display_name": "Python 3.9.4 64-bit ('base': conda)",
   "language": "python",
   "name": "python3"
  },
  "language_info": {
   "codemirror_mode": {
    "name": "ipython",
    "version": 3
   },
   "file_extension": ".py",
   "mimetype": "text/x-python",
   "name": "python",
   "nbconvert_exporter": "python",
   "pygments_lexer": "ipython3",
   "version": "3.9.7"
  },
  "orig_nbformat": 4
 },
 "nbformat": 4,
 "nbformat_minor": 2
}
