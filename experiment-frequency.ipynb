{
 "cells": [
  {
   "cell_type": "code",
   "execution_count": 1,
   "metadata": {},
   "outputs": [
    {
     "name": "stderr",
     "output_type": "stream",
     "text": [
      "2022-10-11 19:59:29.212420: W tensorflow/stream_executor/platform/default/dso_loader.cc:64] Could not load dynamic library 'libcudart.so.11.0'; dlerror: libcudart.so.11.0: cannot open shared object file: No such file or directory\n",
      "2022-10-11 19:59:29.212446: I tensorflow/stream_executor/cuda/cudart_stub.cc:29] Ignore above cudart dlerror if you do not have a GPU set up on your machine.\n",
      "2022-10-11 19:59:31.628278: W tensorflow/stream_executor/platform/default/dso_loader.cc:64] Could not load dynamic library 'libcuda.so.1'; dlerror: libcuda.so.1: cannot open shared object file: No such file or directory\n",
      "2022-10-11 19:59:31.628310: W tensorflow/stream_executor/cuda/cuda_driver.cc:269] failed call to cuInit: UNKNOWN ERROR (303)\n",
      "2022-10-11 19:59:31.628326: I tensorflow/stream_executor/cuda/cuda_diagnostics.cc:156] kernel driver does not appear to be running on this host (ic-5rpzl43): /proc/driver/nvidia/version does not exist\n"
     ]
    }
   ],
   "source": [
    "import tensorflow as tf\n",
    "tf.keras.backend.set_floatx('float32')\n",
    "from tensorflow.keras.optimizers import Adam\n",
    "from tensorflow.keras.callbacks import ModelCheckpoint,EarlyStopping\n",
    "from tensorflow.keras.models import Model\n",
    "from tensorflow.keras.layers import Add\n",
    "from tensorflow.keras import backend as K\n",
    "mse = tf.keras.losses.MeanSquaredError()\n",
    "\n",
    "# from MD_AE_tools.models.models import *\n",
    "from MD_AE_tools.models.models_no_bias import *\n",
    "import MD_AE_tools.mode_decomposition as md\n",
    "import MD_AE_tools.ae_mode_evaluation as mode_eval\n",
    "\n",
    "import myplot\n",
    "\n",
    "import h5py\n",
    "import numpy as np\n",
    "from numpy import einsum\n",
    "import matplotlib\n",
    "import matplotlib.pyplot as plt\n",
    "from mpl_toolkits.axes_grid1 import ImageGrid\n",
    "from mpl_toolkits.axes_grid1.axes_divider import make_axes_locatable\n",
    "\n",
    "import time\n",
    "import os\n",
    "import configparser\n",
    "import datetime\n",
    "import wandb\n",
    "\n",
    "# get system information\n",
    "config = configparser.ConfigParser()\n",
    "config.read('_system.ini')\n",
    "system_info = config['system_info']\n",
    "\n",
    "# use gpu\n",
    "gpus = tf.config.list_physical_devices('GPU')\n",
    "if gpus:\n",
    "    try:\n",
    "        tf.config.set_visible_devices(gpus[2], 'GPU')# use [] for cpu only, gpus[i] for the ith gpu\n",
    "        tf.config.set_logical_device_configuration(gpus[2],[tf.config.LogicalDeviceConfiguration(memory_limit=1024)]) # set hard memory limit\n",
    "        # tf.config.experimental.set_memory_growth(gpus[0], True) # allow memory growth\n",
    "        logical_gpus = tf.config.list_logical_devices('GPU')\n",
    "        print(len(gpus), \"Physical GPUs,\", len(logical_gpus), \"Logical GPU\")\n",
    "    except RuntimeError as e:\n",
    "        # Visible devices must be set before GPUs have been initialized\n",
    "        print(e)"
   ]
  },
  {
   "cell_type": "code",
   "execution_count": 2,
   "metadata": {},
   "outputs": [],
   "source": [
    "# data\n",
    "data_file = './data/PIV4_downsampled_by8.h5'\n",
    "Ntrain = 1632 # snapshots for training\n",
    "Nval = 550 # sanpshots for validation\n",
    "Ntest = 550\n",
    "\n",
    "# Boolean \n",
    "LATENT_STATE = True # save latent state\n",
    "SHUFFLE = True # shuffle before splitting into sets, test set is extracted before shuffling\n",
    "REMOVE_MEAN = True # train on fluctuating velocity\n",
    "\n",
    "## ae configuration\n",
    "lmb = 0.000 #1e-05 #regulariser\n",
    "drop_rate = 0.0\n",
    "features_layers = [32, 64, 128]\n",
    "latent_dim = 2\n",
    "act_fct = 'linear'\n",
    "resize_meth = 'bilinear'\n",
    "filter_window= (5,5)\n",
    "batch_norm = False\n",
    "\n",
    "## training\n",
    "nb_epoch = 3000\n",
    "batch_size = 200\n",
    "learning_rate = 0.001\n",
    "\n",
    "Nz = 24 # grid size\n",
    "Ny = 21\n",
    "Nu = 2\n",
    "Nt = 2732 # number of snapshots available\n",
    "D = 196.5 # mm diameter of bluff body\n",
    "U_inf = 15 # m/s freestream velocity\n",
    "f_piv = 720.0 # Hz PIV sampling frequency  \n",
    "dt = 1.0/f_piv \n",
    "Nx = [Ny, Nz]"
   ]
  },
  {
   "cell_type": "markdown",
   "metadata": {},
   "source": [
    "## Data"
   ]
  },
  {
   "cell_type": "code",
   "execution_count": 3,
   "metadata": {},
   "outputs": [],
   "source": [
    "#============================= READ DATA FROM FILE ================================\n",
    "hf = h5py.File('./data/ufluc_shuffle_1632.h5','r')\n",
    "u_all = np.array(hf.get('u_all'))\n",
    "u_train = np.array(hf.get('u_train'))\n",
    "u_val = np.array(hf.get('u_val'))\n",
    "u_test = np.array(hf.get('u_test'))\n",
    "u_mean_all = np.array(hf.get('u_mean_all'))\n",
    "u_mean_train = np.array(hf.get('u_mean_train'))\n",
    "u_mean_val = np.array(hf.get('u_mean_val'))\n",
    "u_mean_test = np.array(hf.get('u_mean_test'))\n",
    "hf.close()"
   ]
  },
  {
   "cell_type": "code",
   "execution_count": 4,
   "metadata": {},
   "outputs": [
    {
     "name": "stdout",
     "output_type": "stream",
     "text": [
      "Calculating POD ...\n",
      "User has selected classic POD\n",
      "POD done.\n"
     ]
    },
    {
     "name": "stderr",
     "output_type": "stream",
     "text": [
      "/home/ym917/Documents/Codes/MD-CNN-AE/MD_AE_tools/mode_decomposition.py:220: RuntimeWarning: invalid value encountered in sqrt\n",
      "  normQ = (Q_POD.T @ Q_POD*self.w).real**0.5\n"
     ]
    }
   ],
   "source": [
    "# POD data\n",
    "x = einsum('t y z u -> y z t u',np.squeeze(u_train))\n",
    "X = np.vstack((x[:,:,:,0],x[:,:,:,1]))\n",
    "pod_data = md.POD(X,method='classic')\n",
    "Q_POD_data,lam_data = pod_data.get_modes\n",
    "Q_mean = pod_data.Q_mean\n",
    "recons_data = pod_data.reconstruct(latent_dim,shape=[2,Ny,Nz,u_train.shape[1]])\n",
    "recons_data = np.transpose(recons_data,[3,1,2,0])\n",
    "\n",
    "A_data = pod_data.get_time_coefficient\n",
    "pod_modes_t = []\n",
    "for i in range(latent_dim):\n",
    "    Q_add = pod_data.Phi[:,[i]] @ A_data[:,[i]].T\n",
    "    rebuildv = np.reshape(Q_add,[2,Ny,Nz,A_data.shape[0]])\n",
    "    pod_modes_t.append(rebuildv)\n",
    "pod_modes_t = np.array(pod_modes_t) # [latent_dim,velocity,Ny,Nz,time]"
   ]
  },
  {
   "cell_type": "code",
   "execution_count": 5,
   "metadata": {},
   "outputs": [
    {
     "name": "stdout",
     "output_type": "stream",
     "text": [
      "Calculating POD ...\n",
      "User has selected classic POD\n",
      "POD done.\n"
     ]
    }
   ],
   "source": [
    "# prepare validation data\n",
    "vy = u_val[0,:,:,:,0] + u_mean_val[:,:,0]\n",
    "vy = np.transpose(vy,[1,2,0])\n",
    "vz = u_val[0,:,:,:,1] + u_mean_val[:,:,1]\n",
    "vz = np.transpose(vz,[1,2,0])\n",
    "X = np.vstack((vz,vy))\n",
    "\n",
    "pod_val = md.POD(X,method='classic')\n",
    "Q_POD_val,lam_val = pod_val.get_modes\n",
    "A_val = pod_val.get_time_coefficient"
   ]
  },
  {
   "cell_type": "markdown",
   "metadata": {},
   "source": [
    "## Set up decoder"
   ]
  },
  {
   "cell_type": "code",
   "execution_count": 6,
   "metadata": {},
   "outputs": [
    {
     "name": "stderr",
     "output_type": "stream",
     "text": [
      "2022-10-11 19:59:37.611384: I tensorflow/core/platform/cpu_feature_guard.cc:151] This TensorFlow binary is optimized with oneAPI Deep Neural Network Library (oneDNN) to use the following CPU instructions in performance-critical operations:  AVX2 FMA\n",
      "To enable them in other operations, rebuild TensorFlow with the appropriate compiler flags.\n"
     ]
    }
   ],
   "source": [
    "encoder = Encoder(Nx,Nu,features_layers,latent_dim,filter_window,act_fct='tanh',batch_norm=batch_norm,drop_rate=drop_rate,lmb=lmb)\n",
    "layer_size = encoder.get_layer_shape()"
   ]
  },
  {
   "cell_type": "code",
   "execution_count": null,
   "metadata": {},
   "outputs": [],
   "source": [
    "### single decoder\n",
    "\n",
    "decoders = []\n",
    "add_modes = []\n",
    "inn = Input(shape=(latent_dim))\n",
    "for i in range(latent_dim):\n",
    "    decoders.append(\n",
    "        Decoder(Nx=Nx,Nu=Nu,layer_size=layer_size,features_layers=features_layers,latent_dim=1,filter_window=filter_window,act_fct='tanh',batch_norm=batch_norm,drop_rate=drop_rate,lmb=lmb)\n",
    "        )\n",
    "out = decoders[0](inn)\n",
    "mdl = Model(inn,out)\n",
    "print(mdl.summary())"
   ]
  },
  {
   "cell_type": "code",
   "execution_count": 7,
   "metadata": {},
   "outputs": [
    {
     "name": "stdout",
     "output_type": "stream",
     "text": [
      "Model: \"model\"\n",
      "__________________________________________________________________________________________________\n",
      " Layer (type)                   Output Shape         Param #     Connected to                     \n",
      "==================================================================================================\n",
      " input_2 (InputLayer)           [(None, 2)]          0           []                               \n",
      "                                                                                                  \n",
      " lambda (Lambda)                (None, 1)            0           ['input_2[0][0]']                \n",
      "                                                                                                  \n",
      " lambda_1 (Lambda)              (None, 1)            0           ['input_2[0][0]']                \n",
      "                                                                                                  \n",
      " decoder (Decoder)              (None, 21, 24, 2)    258752      ['lambda[0][0]']                 \n",
      "                                                                                                  \n",
      " decoder_1 (Decoder)            (None, 21, 24, 2)    258752      ['lambda_1[0][0]']               \n",
      "                                                                                                  \n",
      " add (Add)                      (None, 21, 24, 2)    0           ['decoder[0][0]',                \n",
      "                                                                  'decoder_1[0][0]']              \n",
      "                                                                                                  \n",
      "==================================================================================================\n",
      "Total params: 517,504\n",
      "Trainable params: 517,504\n",
      "Non-trainable params: 0\n",
      "__________________________________________________________________________________________________\n",
      "None\n"
     ]
    }
   ],
   "source": [
    "# set up network\n",
    "# sum(decoders) = flow\n",
    "decoders = []\n",
    "add_modes = []\n",
    "inn = Input(shape=(latent_dim))\n",
    "for i in range(latent_dim):\n",
    "    decoders.append(\n",
    "        Decoder(Nx=Nx,Nu=Nu,layer_size=layer_size,features_layers=features_layers,latent_dim=1,filter_window=filter_window,act_fct='tanh',batch_norm=batch_norm,drop_rate=drop_rate,lmb=lmb)\n",
    "        )\n",
    "    x = Lambda(lambda x,i: x[:,i:i+1],arguments={'i':i})(inn)\n",
    "    x = decoders[i](x)\n",
    "    add_modes.append(x)\n",
    "    del x\n",
    "out = Add()(add_modes)\n",
    "mdl = Model(inn,out)\n",
    "print(mdl.summary())"
   ]
  },
  {
   "cell_type": "code",
   "execution_count": 8,
   "metadata": {},
   "outputs": [],
   "source": [
    "mdl.compile(optimizer=Adam(learning_rate=learning_rate),loss='mse')"
   ]
  },
  {
   "cell_type": "markdown",
   "metadata": {},
   "source": [
    "## Training decoder"
   ]
  },
  {
   "cell_type": "code",
   "execution_count": null,
   "metadata": {},
   "outputs": [],
   "source": [
    "# training control\n",
    "pat = 200 # early stopping\n",
    "tempfn = './temp_decoder.h5'\n",
    "model_cb=ModelCheckpoint(tempfn, monitor='loss',save_best_only=True,verbose=1,save_weights_only=True)\n",
    "early_cb=EarlyStopping(monitor='loss', patience=pat,verbose=1)\n",
    "cb = [model_cb, early_cb]"
   ]
  },
  {
   "cell_type": "code",
   "execution_count": null,
   "metadata": {},
   "outputs": [],
   "source": [
    "# clear history\n",
    "hist_train = []\n",
    "hist_val = []"
   ]
  },
  {
   "cell_type": "code",
   "execution_count": 9,
   "metadata": {},
   "outputs": [],
   "source": [
    "# modify input\n",
    "A_train_in = A_data[:,:2]\n",
    "A_val_in = A_val[:,:2]"
   ]
  },
  {
   "cell_type": "code",
   "execution_count": null,
   "metadata": {},
   "outputs": [],
   "source": [
    "plt.figure(figsize=(12,5))\n",
    "plt.plot(A_train_in)\n",
    "plt.show()"
   ]
  },
  {
   "cell_type": "code",
   "execution_count": 10,
   "metadata": {},
   "outputs": [],
   "source": [
    "mdl.load_weights(\"/home/ym917/Documents/Results/train-on-time-coefficient/regularisation/decoder_weights.h5\")"
   ]
  },
  {
   "cell_type": "code",
   "execution_count": null,
   "metadata": {},
   "outputs": [],
   "source": [
    "hist = mdl.fit(A_train_in,u_train[0,:,:,:,:],\n",
    "            epochs=nb_epoch,batch_size=batch_size,shuffle=True,\n",
    "            validation_data=(A_val_in,u_val[0,:,:,:,:]),\n",
    "            callbacks=cb,verbose=1)\n",
    "hist_train.extend(hist.history['loss'])\n",
    "hist_val.extend(hist.history['val_loss'])\n",
    "mdl.load_weights(tempfn)"
   ]
  },
  {
   "cell_type": "code",
   "execution_count": null,
   "metadata": {},
   "outputs": [],
   "source": [
    "plt.figure()\n",
    "plt.plot(hist_train,label='train')\n",
    "plt.plot(hist_val,label='validation')\n",
    "plt.legend()\n",
    "plt.show()"
   ]
  },
  {
   "cell_type": "code",
   "execution_count": 11,
   "metadata": {},
   "outputs": [
    {
     "name": "stdout",
     "output_type": "stream",
     "text": [
      "are results calculated through two methods the same? True\n"
     ]
    }
   ],
   "source": [
    "# get results\n",
    "y = mdl.predict(A_train_in)\n",
    "\n",
    "mode_shape = []\n",
    "ae_modes = []\n",
    "for i in range(latent_dim):\n",
    "    mode_shape.append(decoders[i].predict(np.reshape(1,(1,1))))\n",
    "    ae_modes.append(decoders[i].predict(A_train_in[:,[i]]))\n",
    "y_add = np.sum(ae_modes,axis=0)\n",
    "print('are results calculated through two methods the same?',np.array_equal(y,y_add))\n",
    "\n",
    "mode_shape = np.array(mode_shape)\n",
    "ae_modes = np.array(ae_modes)"
   ]
  },
  {
   "cell_type": "markdown",
   "metadata": {},
   "source": [
    "## Visualise results"
   ]
  },
  {
   "cell_type": "code",
   "execution_count": 12,
   "metadata": {},
   "outputs": [
    {
     "data": {
      "image/png": "[encoded data removed]",
      "text/plain": [
       "<Figure size 432x288 with 8 Axes>"
      ]
     },
     "metadata": {
      "needs_background": "light"
     },
     "output_type": "display_data"
    },
    {
     "data": {
      "image/png": "[encoded data removed]",
      "text/plain": [
       "<Figure size 432x288 with 8 Axes>"
      ]
     },
     "metadata": {
      "needs_background": "light"
     },
     "output_type": "display_data"
    }
   ],
   "source": [
    "# visulise the weights of the decoder\n",
    "fig1,ax1 = plt.subplots(2,latent_dim,sharey=True,sharex=True)\n",
    "fig1.suptitle('shape of the modes')\n",
    "ax1[0,0].set_ylabel('POD mode of data')\n",
    "ax1[1,0].set_ylabel('decoder weight')\n",
    "for i in range(latent_dim):\n",
    "    pltV = np.reshape(Q_POD_data[:,i],[2*Ny,Nz])\n",
    "    im1 = ax1[0,i].imshow(pltV[:Ny,:],'jet')\n",
    "    ax1[0,i].set_title(str(i+1))\n",
    "    ax1[0,i].set_xticks([])\n",
    "    ax1[0,i].set_yticks([])\n",
    "    div = make_axes_locatable(ax1[0,i])\n",
    "    cax = div.append_axes('right',size='5%',pad='2%')\n",
    "    plt.colorbar(im1,cax=cax)\n",
    "\n",
    "    im2 = ax1[1,i].imshow(mode_shape[i,0,:,:,0],'jet')\n",
    "    div = make_axes_locatable(ax1[1,i])\n",
    "    cax = div.append_axes('right',size='5%',pad='2%')\n",
    "    plt.colorbar(im2,cax=cax)\n",
    "\n",
    "# visualise the changing modes\n",
    "t = 100\n",
    "\n",
    "fig2,ax2 = plt.subplots(2,latent_dim,sharey=True,sharex=True)\n",
    "# fig2,ax2 = plt.subplots(2,[latent_dim],sharey='all')\n",
    "fig2.suptitle(f'AE modes or $a_i\\phi_i$ at t={t}')\n",
    "ax2[0,0].set_ylabel('POD mode of data')\n",
    "ax2[1,0].set_ylabel('decoder')\n",
    "for i in range(latent_dim):\n",
    "    pltV_t = pod_modes_t[i,0,:,:,t]\n",
    "    im1 = ax2[0,i].imshow(pltV_t,'jet')\n",
    "    ax2[0,i].set_title(str(i+1))\n",
    "    ax2[0,i].set_xticks([])\n",
    "    ax2[0,i].set_yticks([])\n",
    "    div = make_axes_locatable(ax2[0,i])\n",
    "    cax = div.append_axes('right',size='5%',pad='2%')\n",
    "    plt.colorbar(im1,cax=cax)\n",
    "\n",
    "    im2 = ax2[1,i].imshow(ae_modes[i,t,:,:,0],'jet')\n",
    "    div = make_axes_locatable(ax2[1,i])\n",
    "    cax = div.append_axes('right',size='5%',pad='2%')\n",
    "    plt.colorbar(im2,cax=cax)\n",
    "\n",
    "plt.show()"
   ]
  },
  {
   "cell_type": "code",
   "execution_count": null,
   "metadata": {},
   "outputs": [],
   "source": [
    "ke = 0.5 * np.einsum('z t x y u -> z t', ae_modes**2)\n",
    "\n",
    "plt.figure()\n",
    "plt.scatter(A_data[:,0]**2, ke[0,:], alpha=0.4,label='mode 1',s=2)\n",
    "plt.scatter(A_data[:,1]**2, ke[1,:], alpha=0.4,label='mode 2',s=2)\n",
    "plt.xlabel('$z^2$')\n",
    "plt.ylabel('TKE of corresponding autoencoder mode')\n",
    "plt.xlim([0,2000])\n",
    "plt.ylim([0,2000])\n",
    "plt.legend()\n",
    "plt.show()\n",
    "\n",
    "print('correlation coefficient', np.corrcoef(np.abs(A_data[:,0]**2), ke[0,:])[0,1])"
   ]
  },
  {
   "cell_type": "code",
   "execution_count": null,
   "metadata": {},
   "outputs": [],
   "source": [
    "# reproject autoencoder modes onto data pod modes\n",
    "lam_modes = mode_eval.equivalent_pca_energy(ae_modes,Q_POD_data)\n",
    "lam_modes_percent = lam_modes/lam_data\n",
    "\n",
    "x_axis = np.arange(1, Nz*Ny*Nu+1)\n",
    "\n",
    "plt.figure()\n",
    "for i in range(latent_dim):\n",
    "    plt.plot(x_axis,lam_modes[i,:],label='AE mode '+str(i+1),linestyle='--',marker='x')\n",
    "plt.plot(x_axis,lam_data,label='data')\n",
    "plt.xlim([0,10])\n",
    "plt.xticks(range(10))\n",
    "plt.ylim(bottom=0)\n",
    "plt.ylabel('equivalent PCA energy')\n",
    "plt.xlabel('POD mode')\n",
    "plt.legend()\n",
    "\n",
    "plt.figure()\n",
    "for i in range(latent_dim):\n",
    "    plt.plot(x_axis,lam_modes_percent[i,:],label='AE mode '+str(i+1),linestyle='--',marker='x')\n",
    "plt.xlim([0,10])\n",
    "plt.ylim([0,1])\n",
    "plt.xticks(range(10))\n",
    "plt.legend()\n",
    "plt.xlabel('POD mode')\n",
    "plt.ylabel('% equivalent PCA energy')\n",
    "plt.title('precentage of POD modes captured')\n",
    "\n",
    "\n",
    "# Similarity between time coeffcient and latent variables\n",
    "mag_A = einsum('t x -> x',A_data**2)**0.5\n",
    "\n",
    "plt.figure()\n",
    "# plt.suptitle('cosine of the angle between the latent variables and POD time coefficient (as time series)')\n",
    "plt.xlabel('POD mode')\n",
    "plt.ylabel('cosine similarity')\n",
    "for i in range(latent_dim):\n",
    "    mag_z = np.sum(A_data[:,i]**2)**0.5\n",
    "    divisor = mag_A * mag_z\n",
    "    z_dot_A = A_data[:,[i]].T @ A_data\n",
    "    cos_angle = (z_dot_A / divisor).flatten()\n",
    "    plt.plot(x_axis, np.abs(cos_angle),label='AE mode '+str(i+1),linestyle='--',marker='x')\n",
    "plt.xlim([0,10])\n",
    "plt.xticks(range(10))\n",
    "plt.legend()\n",
    "\n",
    "\n",
    "plt.show()"
   ]
  },
  {
   "cell_type": "code",
   "execution_count": 13,
   "metadata": {},
   "outputs": [
    {
     "data": {
      "image/png": "[encoded data removed]",
      "text/plain": [
       "<Figure size 432x288 with 1 Axes>"
      ]
     },
     "metadata": {
      "needs_background": "light"
     },
     "output_type": "display_data"
    }
   ],
   "source": [
    "# test orthogonality\n",
    "aemode1 = einsum('t y z u-> y z t u',np.squeeze(ae_modes[0,...]))\n",
    "aemode2 = einsum('t y z u-> y z t u',np.squeeze(ae_modes[1,...]))\n",
    "aemode1 = np.vstack((aemode1[:,:,:,0],aemode1[:,:,:,1]))\n",
    "aemode2 = np.vstack((aemode2[:,:,:,0],aemode2[:,:,:,1]))\n",
    "aemode1 = np.reshape(aemode1,(-1,Ntrain))\n",
    "aemode2 = np.reshape(aemode2,(-1,Ntrain))\n",
    "modes_dot_product = np.diag(einsum('ij,ik',aemode1,aemode2))\n",
    "np.savetxt(\"/home/ym917/Documents/Results/train-on-time-coefficient/regularisation/modes_dot_product.csv\",modes_dot_product,delimiter=',')\n",
    "plt.figure()\n",
    "plt.boxplot(modes_dot_product)\n",
    "plt.show()"
   ]
  },
  {
   "cell_type": "code",
   "execution_count": null,
   "metadata": {},
   "outputs": [],
   "source": [
    "c = []\n",
    "c.append(recons_data[:,:,:,0])\n",
    "c.append(recons_data[:,:,:,1])\n",
    "c = np.transpose(c,[1,2,3,0])\n",
    "\n",
    "print('mse:')\n",
    "print('reconstruction by POD:   ', mse(u_train[0,:,:,:,:],c).numpy())\n",
    "print('reconstructed by model:  ', mse(u_train[0,:,:,:,:],y).numpy())"
   ]
  }
 ],
 "metadata": {
  "kernelspec": {
   "display_name": "Python 3.9.7 ('MD-CNN-AE')",
   "language": "python",
   "name": "python3"
  },
  "language_info": {
   "codemirror_mode": {
    "name": "ipython",
    "version": 3
   },
   "file_extension": ".py",
   "mimetype": "text/x-python",
   "name": "python",
   "nbconvert_exporter": "python",
   "pygments_lexer": "ipython3",
   "version": "3.9.7"
  },
  "orig_nbformat": 4,
  "vscode": {
   "interpreter": {
    "hash": "c903802becab09e4b70ebb5c23f660ee79baa8b794afe13fe5f0f9b40ff7ce9c"
   }
  }
 },
 "nbformat": 4,
 "nbformat_minor": 2
}
