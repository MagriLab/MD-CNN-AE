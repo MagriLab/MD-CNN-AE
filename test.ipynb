{
 "cells": [
  {
   "cell_type": "code",
   "execution_count": null,
   "metadata": {},
   "outputs": [],
   "source": []
  }
 ],
 "metadata": {
  "interpreter": {
   "hash": "c903802becab09e4b70ebb5c23f660ee79baa8b794afe13fe5f0f9b40ff7ce9c"
  },
  "kernelspec": {
   "display_name": "MD-CNN-AE",
   "language": "python",
   "name": "md-cnn-ae"
  },
  "language_info": {
   "codemirror_mode": {
    "name": "ipython",
    "version": 3
   },
   "file_extension": ".py",
   "mimetype": "text/x-python",
   "name": "python",
   "nbconvert_exporter": "python",
   "pygments_lexer": "ipython3",
   "version": "3.9.7"
  }
 },
 "nbformat": 4,
 "nbformat_minor": 4
}
