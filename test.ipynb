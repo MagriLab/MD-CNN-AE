{
 "cells": [
  {
   "cell_type": "code",
   "execution_count": 12,
   "metadata": {},
   "outputs": [],
   "source": [
    "import numpy as np\n",
    "import h5py \n",
    "from matplotlib import pyplot as plt"
   ]
  },
  {
   "cell_type": "code",
   "execution_count": 13,
   "metadata": {},
   "outputs": [
    {
     "name": "stdout",
     "output_type": "stream",
     "text": [
      "REMOVE_MEAN True\n"
     ]
    }
   ],
   "source": [
    "folder = '/home/ym917/OneDrive/PhD/Code_md-ae/MD_2__2022_02_02__16_51_24/'\n",
    "\n",
    "filename = folder + 'results.h5'\n",
    "file = h5py.File(filename,'r')\n",
    "u_train = np.array(file.get('u_train')) # fluctuating velocity if REMOVE_MEAN is true\n",
    "y_train = np.array(file.get('y_train'))\n",
    "u_test = np.array(file.get('u_test')) # fluctuating velocity if REMOVE_MEAN is true\n",
    "y_test = np.array(file.get('y_test'))\n",
    "u_avg = np.array(file.get('u_avg'))\n",
    "latent_train = np.array(file.get('latent_train'))\n",
    "latent_test = np.array(file.get('latent_test'))\n",
    "modes_train = np.array(file.get('modes_train'))\n",
    "modes_test = np.array(file.get('modes_test')) #(modes,snapshots,Nx,Ny,Nu)\n",
    "file.close()\n",
    "\n",
    "filename = folder + 'Model_param.h5'\n",
    "file = h5py.File(filename,'r')\n",
    "lmb = file.get('lmb')[()]#1e-05 #regulariser\n",
    "drop_rate = file.get('drop_rate')[()]\n",
    "features_layers = np.array(file.get('features_layers')).tolist()\n",
    "latent_dim = file.get('latent_dim')[()]\n",
    "act_fct = file.get('act_fct')[()].decode()\n",
    "resize_meth = file.get('resize_meth')[()].decode()\n",
    "filter_window= np.array(file.get('filter_window')).tolist()\n",
    "batch_norm = file.get('batch_norm')[()]\n",
    "REMOVE_MEAN = file.get('REMOVE_MEAN')[()]\n",
    "file.close()\n",
    "print('REMOVE_MEAN',REMOVE_MEAN)"
   ]
  },
  {
   "cell_type": "code",
   "execution_count": 14,
   "metadata": {},
   "outputs": [
    {
     "data": {
      "image/png": "[encoded data removed]",
      "text/plain": [
       "<Figure size 432x288 with 1 Axes>"
      ]
     },
     "metadata": {
      "needs_background": "light"
     },
     "output_type": "display_data"
    },
    {
     "data": {
      "image/png": "[encoded data removed]",
      "text/plain": [
       "<Figure size 432x288 with 1 Axes>"
      ]
     },
     "metadata": {
      "needs_background": "light"
     },
     "output_type": "display_data"
    },
    {
     "data": {
      "image/png": "[encoded data removed]",
      "text/plain": [
       "<Figure size 432x288 with 1 Axes>"
      ]
     },
     "metadata": {
      "needs_background": "light"
     },
     "output_type": "display_data"
    },
    {
     "data": {
      "image/png": "[encoded data removed]",
      "text/plain": [
       "<Figure size 432x288 with 1 Axes>"
      ]
     },
     "metadata": {
      "needs_background": "light"
     },
     "output_type": "display_data"
    }
   ],
   "source": [
    "import autoencoder_modes_selection as ranking\n",
    "SAVE_FIG = True\n",
    "\n",
    "#========================= RMS amplitude of latent variable =====================\n",
    "amp_rms,m = ranking.rms_amplitude(latent_test)\n",
    "plt.figure()\n",
    "plt.bar(np.arange(latent_dim)+1,amp_rms,label='rms amplitude',zorder=1)\n",
    "plt.scatter(np.arange(latent_dim)+1,m,label='signal mean',zorder=2)\n",
    "plt.xticks(np.arange(latent_dim)+1)\n",
    "plt.legend()\n",
    "plt.xlabel(\"Mode\")\n",
    "if SAVE_FIG:\n",
    "    figname = folder + 'ranking_rms.png'\n",
    "    plt.savefig(figname)\n",
    "else:\n",
    "    plt.show()\n",
    "\n",
    "#============================ energy spectrum of signal ==========================\n",
    "signal_energy = ranking.energy_freq(latent_test,remove_mean=True)\n",
    "fig2 = plt.figure()\n",
    "plt.bar(np.arange(latent_dim)+1,signal_energy)\n",
    "plt.xticks(np.arange(latent_dim)+1)\n",
    "plt.xlabel(\"Mode\")\n",
    "plt.title(\"Signal energy in frequency domain of latent space variables\")\n",
    "if SAVE_FIG:\n",
    "    figname = folder + 'ranking_energy.png'\n",
    "    plt.savefig(figname)\n",
    "else:\n",
    "    plt.show()\n",
    "\n",
    "#============================ mse loss ============================================\n",
    "per_mode = ranking.percent_output(modes_test,y_test)\n",
    "fig3 = plt.figure()\n",
    "plt.bar(np.arange(latent_dim)+1,per_mode*100)\n",
    "plt.xticks(np.arange(latent_dim)+1)\n",
    "plt.xlabel(\"Mode\")\n",
    "plt.title(\"Percentage contribution to output\")\n",
    "if SAVE_FIG:\n",
    "    figname = folder + 'ranking_percenty.png'\n",
    "    plt.savefig(figname)\n",
    "else:\n",
    "    plt.show()\n",
    "\n",
    "#=============================== NED ==============================================\n",
    "bins = 10\n",
    "NED = ranking.NED(latent_test,bins,act_fct=act_fct)\n",
    "fig4 = plt.figure()\n",
    "plt.bar(np.arange(latent_dim)+1,NED)\n",
    "plt.xticks(np.arange(latent_dim)+1)\n",
    "plt.xlabel(\"Mode\")\n",
    "plt.title(\"Normalised entropy difference \"+str(bins)+\" bins\")\n",
    "if SAVE_FIG:\n",
    "    figname = folder + 'ranking_ned.png'\n",
    "    plt.savefig(figname)\n",
    "else:\n",
    "    plt.show()"
   ]
  }
 ],
 "metadata": {
  "interpreter": {
   "hash": "6df908de1f4850b5dcb2ce91888b76129a7e151e6ab8f38caf16f5b794c79bc1"
  },
  "kernelspec": {
   "display_name": "Python 3.8.5 64-bit ('base': conda)",
   "language": "python",
   "name": "python3"
  },
  "language_info": {
   "codemirror_mode": {
    "name": "ipython",
    "version": 3
   },
   "file_extension": ".py",
   "mimetype": "text/x-python",
   "name": "python",
   "nbconvert_exporter": "python",
   "pygments_lexer": "ipython3",
   "version": "3.9.7"
  },
  "orig_nbformat": 4
 },
 "nbformat": 4,
 "nbformat_minor": 2
}
