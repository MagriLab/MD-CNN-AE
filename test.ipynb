{
 "cells": [
  {
   "cell_type": "code",
   "execution_count": 25,
   "metadata": {},
   "outputs": [],
   "source": [
    "\n",
    "import sys\n",
    "import tensorflow as tf\n",
    "from tensorflow.keras import backend as K\n",
    "tf.keras.backend.set_floatx('float32')\n",
    "\n",
    "from tensorflow.keras import Input\n",
    "from tensorflow.keras.layers import Dense, Conv2D, MaxPool2D, UpSampling2D, Concatenate, BatchNormalization, Conv2DTranspose, Flatten, PReLU, Reshape, Dropout, AveragePooling2D, Add, Lambda, Layer\n",
    "from tensorflow.keras.regularizers import l2\n",
    "from tensorflow.keras.initializers import Constant\n",
    "from tensorflow.keras.optimizers import Adam\n",
    "from tensorflow.keras.models import Model\n",
    "import numpy as np"
   ]
  },
  {
   "cell_type": "code",
   "execution_count": 26,
   "metadata": {},
   "outputs": [],
   "source": [
    "\n",
    "class Autoencoder_ff(Model):\n",
    "    def __init__(\n",
    "        self,\n",
    "        input_shape:int,\n",
    "        latent_dim:int,\n",
    "        layer_sizes:list = [700,300,100],\n",
    "        regularisation:float = 1e-5,\n",
    "        act_fct:str = 'tanh',\n",
    "        drop_rate = 0.0,\n",
    "        *args,\n",
    "        **kwargs\n",
    "    ):\n",
    "        super().__init__(*args, **kwargs)\n",
    "\n",
    "        self.inn = Input(shape=(input_shape))\n",
    "\n",
    "\n",
    "        # encoder\n",
    "        self.encoder_layers = []\n",
    "        for l in layer_sizes:\n",
    "            self.encoder_layers.append(\n",
    "                Dense(l,act_fct,use_bias=False,kernel_regularizer=l2(regularisation))\n",
    "            )\n",
    "            if drop_rate > 0.0:\n",
    "                self.encoder_layers.append(Dropout(drop_rate))\n",
    "        \n",
    "        self.encoder_layers.append(\n",
    "            Dense(latent_dim,act_fct,use_bias=False,kernel_regularizer=l2(regularisation))\n",
    "        )\n",
    "\n",
    "\n",
    "        # decoder\n",
    "        self.decoder_layers = []\n",
    "        for l in layer_sizes[::-1]:\n",
    "            self.decoder_layers.append(\n",
    "                Dense(l,act_fct,use_bias=False,kernel_regularizer=l2(regularisation))\n",
    "            ) \n",
    "            if drop_rate > 0.0:\n",
    "                self.decoder_layers.append(Dropout(drop_rate))\n",
    "        # last layer\n",
    "        self.decoder_layers.append(\n",
    "            Dense(input_shape,'linear',use_bias=False,kernel_regularizer=l2(regularisation))\n",
    "        )\n",
    "        self.out = self.call(self.inn)\n",
    "\n",
    "    def call(self, inputs, training=None):\n",
    "        x = inputs\n",
    "        for layer in self.encoder_layers:\n",
    "            x = layer(x)\n",
    "        for layer in self.decoder_layers:\n",
    "            x = layer(x)\n",
    "        return x\n",
    "    "
   ]
  },
  {
   "cell_type": "code",
   "execution_count": 27,
   "metadata": {},
   "outputs": [
    {
     "data": {
      "text/plain": [
       "(50, 10)"
      ]
     },
     "execution_count": 27,
     "metadata": {},
     "output_type": "execute_result"
    }
   ],
   "source": [
    "inn = np.random.rand(50,10)\n",
    "inn.shape"
   ]
  },
  {
   "cell_type": "code",
   "execution_count": 28,
   "metadata": {},
   "outputs": [
    {
     "name": "stdout",
     "output_type": "stream",
     "text": [
      "WARNING:tensorflow:5 out of the last 9 calls to <function Model.make_test_function.<locals>.test_function at 0x7f93dc404e50> triggered tf.function retracing. Tracing is expensive and the excessive number of tracings could be due to (1) creating @tf.function repeatedly in a loop, (2) passing tensors with different shapes, (3) passing Python objects instead of tensors. For (1), please define your @tf.function outside of the loop. For (2), @tf.function has experimental_relax_shapes=True option that relaxes argument shapes that can avoid unnecessary retracing. For (3), please refer to https://www.tensorflow.org/guide/function#controlling_retracing and https://www.tensorflow.org/api_docs/python/tf/function for  more details.\n",
      "2/2 [==============================] - 0s 4ms/step - loss: 0.0115\n"
     ]
    },
    {
     "data": {
      "text/plain": [
       "0.011486676521599293"
      ]
     },
     "execution_count": 28,
     "metadata": {},
     "output_type": "execute_result"
    }
   ],
   "source": [
    "mdl = Autoencoder_ff(10,2,drop_rate=0.05)\n",
    "mdl.compile(optimizer=Adam(learning_rate=0.001),loss='mse')\n",
    "mdl.fit(inn,inn,epochs=50,verbose=0)\n",
    "mdl.evaluate(inn)"
   ]
  },
  {
   "cell_type": "code",
   "execution_count": 30,
   "metadata": {},
   "outputs": [
    {
     "name": "stdout",
     "output_type": "stream",
     "text": [
      "Model: \"autoencoder_ff_8\"\n",
      "_________________________________________________________________\n",
      " Layer (type)                Output Shape              Param #   \n",
      "=================================================================\n",
      " dense_64 (Dense)            (None, 700)               7000      \n",
      "                                                                 \n",
      " dropout_36 (Dropout)        (None, 700)               0         \n",
      "                                                                 \n",
      " dense_65 (Dense)            (None, 300)               210000    \n",
      "                                                                 \n",
      " dropout_37 (Dropout)        (None, 300)               0         \n",
      "                                                                 \n",
      " dense_66 (Dense)            (None, 100)               30000     \n",
      "                                                                 \n",
      " dropout_38 (Dropout)        (None, 100)               0         \n",
      "                                                                 \n",
      " dense_67 (Dense)            (None, 2)                 200       \n",
      "                                                                 \n",
      " dense_68 (Dense)            (None, 100)               200       \n",
      "                                                                 \n",
      " dropout_39 (Dropout)        (None, 100)               0         \n",
      "                                                                 \n",
      " dense_69 (Dense)            (None, 300)               30000     \n",
      "                                                                 \n",
      " dropout_40 (Dropout)        (None, 300)               0         \n",
      "                                                                 \n",
      " dense_70 (Dense)            (None, 700)               210000    \n",
      "                                                                 \n",
      " dropout_41 (Dropout)        (None, 700)               0         \n",
      "                                                                 \n",
      " dense_71 (Dense)            (None, 10)                7000      \n",
      "                                                                 \n",
      "=================================================================\n",
      "Total params: 494,400\n",
      "Trainable params: 494,400\n",
      "Non-trainable params: 0\n",
      "_________________________________________________________________\n"
     ]
    }
   ],
   "source": [
    "l = len(mdl.encoder_layers)\n",
    "mdl.summary()"
   ]
  },
  {
   "cell_type": "code",
   "execution_count": 32,
   "metadata": {},
   "outputs": [],
   "source": [
    "inn = Input((2,))\n",
    "out = inn\n",
    "for layer in mdl.decoder_layers:\n",
    "    out = layer(out)\n",
    "\n",
    "decoder = Model(inn,out)\n"
   ]
  },
  {
   "cell_type": "code",
   "execution_count": 33,
   "metadata": {},
   "outputs": [
    {
     "name": "stdout",
     "output_type": "stream",
     "text": [
      "Model: \"model\"\n",
      "_________________________________________________________________\n",
      " Layer (type)                Output Shape              Param #   \n",
      "=================================================================\n",
      " input_10 (InputLayer)       [(None, 2)]               0         \n",
      "                                                                 \n",
      " dense_68 (Dense)            (None, 100)               200       \n",
      "                                                                 \n",
      " dropout_39 (Dropout)        (None, 100)               0         \n",
      "                                                                 \n",
      " dense_69 (Dense)            (None, 300)               30000     \n",
      "                                                                 \n",
      " dropout_40 (Dropout)        (None, 300)               0         \n",
      "                                                                 \n",
      " dense_70 (Dense)            (None, 700)               210000    \n",
      "                                                                 \n",
      " dropout_41 (Dropout)        (None, 700)               0         \n",
      "                                                                 \n",
      " dense_71 (Dense)            (None, 10)                7000      \n",
      "                                                                 \n",
      "=================================================================\n",
      "Total params: 247,200\n",
      "Trainable params: 247,200\n",
      "Non-trainable params: 0\n",
      "_________________________________________________________________\n"
     ]
    }
   ],
   "source": [
    "decoder.summary()"
   ]
  }
 ],
 "metadata": {
  "kernelspec": {
   "display_name": "MD-CNN-AE",
   "language": "python",
   "name": "python3"
  },
  "language_info": {
   "codemirror_mode": {
    "name": "ipython",
    "version": 3
   },
   "file_extension": ".py",
   "mimetype": "text/x-python",
   "name": "python",
   "nbconvert_exporter": "python",
   "pygments_lexer": "ipython3",
   "version": "3.9.7"
  },
  "orig_nbformat": 4,
  "vscode": {
   "interpreter": {
    "hash": "f85e8d5ca1c7d62daa514db97b690def00c9e189bf201b0a2c929de67d960fcf"
   }
  }
 },
 "nbformat": 4,
 "nbformat_minor": 2
}
