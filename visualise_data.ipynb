{
 "cells": [
  {
   "cell_type": "code",
   "execution_count": 1,
   "metadata": {},
   "outputs": [],
   "source": [
    "import numpy as np\n",
    "import h5py\n",
    "import matplotlib.pyplot as plt\n",
    "\n",
    "import MD_AE_tools.mode_decomposition as md\n",
    "\n",
    "import configparser\n",
    "\n",
    "# parameters\n",
    "D       = 196.5;    # Model diameter in mm\n",
    "Uinf    = 15;       # Nominal free stream velocity\n",
    "fPIV    = 720;      # PIV sampling frequency\n",
    "dt      = 1/fPIV;   # Delta t between image pairs\n",
    "ly      = 300       # Domain size\n",
    "lz      = 340"
   ]
  },
  {
   "cell_type": "code",
   "execution_count": 2,
   "metadata": {},
   "outputs": [
    {
     "name": "stdout",
     "output_type": "stream",
     "text": [
      "Finished loading data.\n",
      "(42, 24, 2732)\n"
     ]
    }
   ],
   "source": [
    "#=================== downsampled data ======================\n",
    "filename = './data/PIV4_downsampled_by8.h5' # .h5 file of data\n",
    "hf = h5py.File(filename,'r')\n",
    "z = np.array(hf.get('z'))\n",
    "y = np.array(hf.get('y'))\n",
    "vy = np.array(hf.get('vy'))\n",
    "vz = np.array(hf.get('vz'))\n",
    "hf.close()\n",
    "print(\"Finished loading data.\")\n",
    "# print(vy.shape)\n",
    "ny = len(y)\n",
    "nz = len(z)\n",
    "[nt,nz,ny] = vz.shape\n",
    "\n",
    "vy = np.transpose(vy,[2,1,0])\n",
    "vz = np.transpose(vz,[2,1,0]) #(ny,nz,nt)\n",
    "X = np.vstack((vz,vy)) # new shape [2*ny,nz,nt]\n",
    "print(X.shape)\n",
    "\n",
    "\n",
    "V = (vy**2 + vz**2)**0.5"
   ]
  },
  {
   "cell_type": "code",
   "execution_count": null,
   "metadata": {},
   "outputs": [],
   "source": [
    "#===================== read from training ======================\n",
    "# # read from a result folder\n",
    "# results_folder = 'MD_10__2022_05_21__17_29_44'\n",
    "# config = configparser.ConfigParser()\n",
    "# config.read('_system.ini')\n",
    "# system_info = config['system_info']\n",
    "# folder = system_info['save_location'] + '/' + results_folder + '/'\n",
    "# filename = folder + 'results.h5'\n",
    "\n",
    "# read from saved & partitioned data\n",
    "filename = './data/training_data_unshuffle_1.h5'\n",
    "\n",
    "\n",
    "hf = h5py.File(filename,'r')\n",
    "# print(hf.keys())\n",
    "u_in = np.array(hf.get('u_train'))[0,:,:,:,:]\n",
    "u_train = np.array(hf.get('u_train'))\n",
    "u_val = np.array(hf.get('u_val'))\n",
    "u_avg = np.array(hf.get('u_mean_train'))# u_avg_test\n",
    "hf.close()\n",
    "\n",
    "[nt,ny,nz,nu] = u_in.shape\n",
    "\n",
    "vy = u_in[:,:,:,0] + u_avg[:,:,0]\n",
    "vy = np.transpose(vy,[1,2,0])\n",
    "vz = u_in[:,:,:,1] + u_avg[:,:,1]\n",
    "vz = np.transpose(vz,[1,2,0])\n",
    "X = np.vstack((vz,vy))\n",
    "\n",
    "V_test = (((u_in[:,:,:,0]+u_avg[:,:,0])**2)+((u_in[:,:,:,1]+u_avg[:,:,1])**2))**(0.5)\n",
    "fig = plt.figure()\n",
    "plt.imshow(V_test[0,:,:],'jet')\n",
    "plt.colorbar()\n",
    "plt.title('instantaneous velocity magnitude')\n",
    "plt.show()"
   ]
  },
  {
   "cell_type": "code",
   "execution_count": null,
   "metadata": {},
   "outputs": [],
   "source": [
    "#=================== vorticity ========================\n",
    "dy = y[1]-y[0]\n",
    "dz = z[1]-z[0]\n",
    "\n",
    "vz_plus = np.roll(vz,-1,axis=0) # w_j+1,k matrix\n",
    "vz_plus[-1,:,:] = 2*vz[-1,:,:] # set new matrix(ny,k) to w(ny,k)\n",
    "vz_plus[0,:,:] = 2*vz_plus[0,:,:]\n",
    "vz_minus = np.roll(vz,1,axis=0) # w_j-1,k matrix\n",
    "vz_minus[0,:,:] = 2*vz[0,:,:] # set new matrix(0,k) to w(0,k)\n",
    "vz_minus[-1,:,:] = 2*vz_minus[-1,:,:]\n",
    "\n",
    "vy_plus = np.roll(vz,-1,axis=1) # v_j,k+1\n",
    "vy_plus[:,-1,:] = 2*vy[:,-1,:]\n",
    "vy_plus[:,0,:] = 2*vy_plus[:,0,:]\n",
    "vy_minus = np.roll(vz,1,axis=1) # v_l,k-1\n",
    "vy_minus[:,0,:] = 2*vy[:,0,:]\n",
    "vy_minus[:,-1,:] = 2*vy_minus[:,-1,:]\n",
    "\n",
    "dwdy = (vz_plus - vz_minus)/(2*dy) # central difference\n",
    "dvdz = (vy_plus - vy_minus)/(2*dz)\n",
    "\n",
    "# vorticity = dwdy-dvdz\n",
    "vor = dwdy - dvdz\n",
    "print(vor.shape)\n",
    "\n",
    "plt.figure()\n",
    "plt.imshow(vor[:,:,0]-np.mean(vor,axis=-1),'jet')\n",
    "plt.colorbar()\n",
    "plt.show()"
   ]
  },
  {
   "cell_type": "markdown",
   "metadata": {},
   "source": [
    "### Make gif of vorticity"
   ]
  },
  {
   "cell_type": "code",
   "execution_count": null,
   "metadata": {},
   "outputs": [],
   "source": [
    "from matplotlib import animation\n",
    "\n",
    "fps = 10\n",
    "sec = 10\n",
    "skip = 2\n",
    "vor_plt = vor[:,:,::skip]\n",
    "# vor_plt = np.abs(vor_plt)\n",
    "print(vor_plt.shape)\n",
    "\n",
    "fig_gif = plt.figure()\n",
    "im = plt.imshow(vor_plt[:,:,0],vmin=-0.6,vmax=0.6,cmap='jet')\n",
    "plt.colorbar()\n",
    "plt.title('Vorticity')\n",
    "plt.xticks([])\n",
    "plt.yticks([])\n",
    "plt.show()\n",
    "\n",
    "def animation_func(i):\n",
    "    im.set_array(vor_plt[:,:,i])\n",
    "    return[im]\n",
    "\n",
    "gif = animation.FuncAnimation(fig_gif,\n",
    "                                animation_func,\n",
    "                                frames=np.arange(fps*sec),\n",
    "                                interval=1000/fps,\n",
    "                                repeat=False)\n",
    "\n",
    "gif.save('u_in_vorticity.gif',fps=fps)"
   ]
  },
  {
   "cell_type": "markdown",
   "metadata": {},
   "source": [
    "### POD"
   ]
  },
  {
   "cell_type": "code",
   "execution_count": null,
   "metadata": {},
   "outputs": [],
   "source": [
    "# vorticity\n",
    "pod = md.POD(vor,method='classic')\n",
    "Q_POD,lam = pod.get_modes()\n",
    "Q_mean = pod.Q_mean\n",
    "\n",
    "fig = plt.figure()\n",
    "\n",
    "for iphi in range(9):\n",
    "    ax = plt.subplot(3,3,iphi+1,title=str(iphi+1),xticks=[],yticks=[])\n",
    "    pltV = Q_POD[:,iphi];\n",
    "    pltV = np.reshape(pltV,[ny,nz])\n",
    "    plt.imshow(np.abs(pltV),'jet',vmax=0.15)\n",
    "    plt.colorbar()\n",
    "\n",
    "energy = np.cumsum(lam/np.sum(lam))\n",
    "plt.figure()\n",
    "plt.plot(np.arange(len(energy))+1,energy)\n",
    "plt.ylabel('energy')\n",
    "plt.xlabel('mode')"
   ]
  },
  {
   "cell_type": "code",
   "execution_count": 3,
   "metadata": {},
   "outputs": [
    {
     "name": "stdout",
     "output_type": "stream",
     "text": [
      "Calculating POD ...\n",
      "User has selected classic POD\n",
      "POD done.\n"
     ]
    },
    {
     "name": "stderr",
     "output_type": "stream",
     "text": [
      "/home/ym917/Documents/Codes/MD-CNN-AE/MD_AE_tools/mode_decomposition.py:189: RuntimeWarning: invalid value encountered in sqrt\n",
      "  normQ = (Q_POD.T @ Q_POD*self.w).real**0.5\n"
     ]
    }
   ],
   "source": [
    "pod_v = md.POD(X,method='classic')\n",
    "Q_POD_v,lam_v = pod_v.get_modes()\n",
    "Q_mean_v = pod_v.Q_mean"
   ]
  },
  {
   "cell_type": "code",
   "execution_count": 4,
   "metadata": {},
   "outputs": [
    {
     "data": {
      "text/plain": [
       "array([220.69080706, 136.04505829,  93.6242865 ,  83.36394631,\n",
       "        66.2812937 ])"
      ]
     },
     "execution_count": 4,
     "metadata": {},
     "output_type": "execute_result"
    }
   ],
   "source": [
    "lam_v[:5]"
   ]
  },
  {
   "cell_type": "code",
   "execution_count": 5,
   "metadata": {},
   "outputs": [
    {
     "data": {
      "image/png": "[encoded data removed]",
      "text/plain": [
       "<Figure size 432x288 with 18 Axes>"
      ]
     },
     "metadata": {
      "needs_background": "light"
     },
     "output_type": "display_data"
    },
    {
     "data": {
      "image/png": "[encoded data removed]",
      "text/plain": [
       "<Figure size 432x288 with 18 Axes>"
      ]
     },
     "metadata": {
      "needs_background": "light"
     },
     "output_type": "display_data"
    },
    {
     "data": {
      "image/png": "[encoded data removed]",
      "text/plain": [
       "<Figure size 432x288 with 18 Axes>"
      ]
     },
     "metadata": {
      "needs_background": "light"
     },
     "output_type": "display_data"
    },
    {
     "data": {
      "image/png": "[encoded data removed]",
      "text/plain": [
       "<Figure size 432x288 with 1 Axes>"
      ]
     },
     "metadata": {
      "needs_background": "light"
     },
     "output_type": "display_data"
    },
    {
     "data": {
      "image/png": "[encoded data removed]",
      "text/plain": [
       "<Figure size 432x288 with 2 Axes>"
      ]
     },
     "metadata": {
      "needs_background": "light"
     },
     "output_type": "display_data"
    }
   ],
   "source": [
    "plt.figure()\n",
    "plt.suptitle('v')\n",
    "for iphi in range(9):\n",
    "    ax = plt.subplot(3,3,iphi+1,title=str(iphi+1),xticks=[],yticks=[])\n",
    "    pltV = Q_POD_v[:,iphi];\n",
    "    pltV = np.reshape(pltV,[2*ny,nz])\n",
    "    pltV = pltV[ny:,:]\n",
    "    \n",
    "    ax = plt.imshow(pltV,'jet')\n",
    "    plt.colorbar()\n",
    "\n",
    "plt.figure()\n",
    "plt.suptitle('w')\n",
    "for iphi in range(9):\n",
    "    ax = plt.subplot(3,3,iphi+1,title=str(iphi+1),xticks=[],yticks=[])\n",
    "    pltV = Q_POD_v[:,iphi];\n",
    "    pltV = np.reshape(pltV,[2*ny,nz])\n",
    "    pltV = pltV[0:ny,:]\n",
    "    \n",
    "    ax = plt.imshow(pltV,'jet')\n",
    "    plt.colorbar()\n",
    "\n",
    "plt.figure()\n",
    "plt.suptitle('magnitude V')\n",
    "for iphi in range(9):\n",
    "    ax = plt.subplot(3,3,iphi+1,title=str(iphi+1),xticks=[],yticks=[])\n",
    "    pltV = Q_POD_v[:,iphi];\n",
    "    pltV = np.reshape(pltV,[2*ny,nz])\n",
    "    pltV = (pltV[0:ny,:]**2 + pltV[ny:,:]**2)**0.5\n",
    "    \n",
    "    ax = plt.imshow(pltV,'jet')\n",
    "    plt.colorbar()\n",
    "\n",
    "energy = np.cumsum(lam_v/np.sum(lam_v))\n",
    "plt.figure()\n",
    "plt.plot(np.arange(len(energy))+1,energy)\n",
    "plt.ylabel('energy')\n",
    "plt.xlabel('mode')\n",
    "\n",
    "## Reconstruct\n",
    "PlotWhichVelocity = 'w'\n",
    "rebuildv = pod_v.reconstruct(number_of_modes=10,shape=[2,ny,nz,nt])\n",
    "if PlotWhichVelocity == 'w': # Q was built [vz,vy]\n",
    "    rebuildv = rebuildv[0,:,:,0]\n",
    "elif PlotWhichVelocity == 'v':\n",
    "    rebuildv = rebuildv[1,:,:,0]\n",
    "elif PlotWhichVelocity =='V':\n",
    "    rebuildv = (rebuildv[0,:,:,0]**2 + rebuildv[1,:,:,0]**2)**0.5\n",
    "plt.figure()\n",
    "plt.imshow(rebuildv,'jet')#-(np.sum(u_avg**2,axis=-1)**0.5)\n",
    "plt.colorbar()\n",
    "plt.show()"
   ]
  },
  {
   "cell_type": "code",
   "execution_count": 6,
   "metadata": {},
   "outputs": [
    {
     "name": "stdout",
     "output_type": "stream",
     "text": [
      "(2732, 21, 24, 2)\n"
     ]
    },
    {
     "ename": "NameError",
     "evalue": "name 'u_in' is not defined",
     "output_type": "error",
     "traceback": [
      "\u001b[0;31m---------------------------------------------------------------------------\u001b[0m",
      "\u001b[0;31mNameError\u001b[0m                                 Traceback (most recent call last)",
      "\u001b[0;32m/tmp/ipykernel_56724/4208906583.py\u001b[0m in \u001b[0;36m<module>\u001b[0;34m\u001b[0m\n\u001b[1;32m      8\u001b[0m \u001b[0mc\u001b[0m \u001b[0;34m=\u001b[0m \u001b[0mnp\u001b[0m\u001b[0;34m.\u001b[0m\u001b[0mtranspose\u001b[0m\u001b[0;34m(\u001b[0m\u001b[0mc\u001b[0m\u001b[0;34m,\u001b[0m\u001b[0;34m[\u001b[0m\u001b[0;36m1\u001b[0m\u001b[0;34m,\u001b[0m\u001b[0;36m2\u001b[0m\u001b[0;34m,\u001b[0m\u001b[0;36m3\u001b[0m\u001b[0;34m,\u001b[0m\u001b[0;36m0\u001b[0m\u001b[0;34m]\u001b[0m\u001b[0;34m)\u001b[0m\u001b[0;34m\u001b[0m\u001b[0;34m\u001b[0m\u001b[0m\n\u001b[1;32m      9\u001b[0m \u001b[0mprint\u001b[0m\u001b[0;34m(\u001b[0m\u001b[0mc\u001b[0m\u001b[0;34m.\u001b[0m\u001b[0mshape\u001b[0m\u001b[0;34m)\u001b[0m\u001b[0;34m\u001b[0m\u001b[0;34m\u001b[0m\u001b[0m\n\u001b[0;32m---> 10\u001b[0;31m \u001b[0mb\u001b[0m \u001b[0;34m=\u001b[0m \u001b[0mu_in\u001b[0m\u001b[0;34m+\u001b[0m\u001b[0mu_avg\u001b[0m\u001b[0;34m\u001b[0m\u001b[0;34m\u001b[0m\u001b[0m\n\u001b[0m\u001b[1;32m     11\u001b[0m \u001b[0;34m\u001b[0m\u001b[0m\n\u001b[1;32m     12\u001b[0m \u001b[0;31m# calculated mean squared error of POD reconstruction\u001b[0m\u001b[0;34m\u001b[0m\u001b[0;34m\u001b[0m\u001b[0m\n",
      "\u001b[0;31mNameError\u001b[0m: name 'u_in' is not defined"
     ]
    }
   ],
   "source": [
    "## calcualte mse of reconstructed flow\n",
    "\n",
    "a = pod_v.reconstruct(number_of_modes=2,shape=[2,ny,nz,nt])\n",
    "a = np.transpose(a,[3,1,2,0])\n",
    "c = []\n",
    "c.append(a[:,:,:,1])\n",
    "c.append(a[:,:,:,0])\n",
    "c = np.transpose(c,[1,2,3,0])\n",
    "print(c.shape)\n",
    "b = u_in+u_avg\n",
    "\n",
    "# calculated mean squared error of POD reconstruction\n",
    "def mse(x,y):\n",
    "    return np.mean((x-y)**2)\n",
    "print(mse(b,c))\n",
    "\n",
    "# print(np.sum(lam_v[:10]))\n",
    "# print(energy[9])"
   ]
  },
  {
   "cell_type": "markdown",
   "metadata": {},
   "source": [
    "### Divergence"
   ]
  },
  {
   "cell_type": "code",
   "execution_count": 12,
   "metadata": {},
   "outputs": [
    {
     "name": "stdout",
     "output_type": "stream",
     "text": [
      "1.2411792716734507\n"
     ]
    }
   ],
   "source": [
    "# calculated mean squared error of POD reconstruction\n",
    "def mse(x,y):\n",
    "    return np.mean((x-y)**2)\n",
    "print(mse(b,c))"
   ]
  },
  {
   "cell_type": "code",
   "execution_count": null,
   "metadata": {},
   "outputs": [],
   "source": [
    "print(np.sum(lam_v[:10]))\n",
    "print(energy[9])"
   ]
  },
  {
   "cell_type": "markdown",
   "metadata": {},
   "source": [
    "## Ranking"
   ]
  },
  {
   "cell_type": "code",
   "execution_count": 15,
   "metadata": {},
   "outputs": [
    {
     "data": {
      "image/png": "[encoded data removed]",
      "text/plain": [
       "<Figure size 432x288 with 2 Axes>"
      ]
     },
     "metadata": {
      "needs_background": "light"
     },
     "output_type": "display_data"
    },
    {
     "name": "stdout",
     "output_type": "stream",
     "text": [
      "0.019900125041475022\n"
     ]
    }
   ],
   "source": [
    "## data\n",
    "i = 30\n",
    "dvdy = np.gradient(vy[:,:,i],y[1,0]-y[0,0],axis=0)\n",
    "dwdz = np.gradient(vz[:,:,i],z[1,0]-z[0,0],axis=1)\n",
    "plt.figure()\n",
    "plt.title('div(velocity)')\n",
    "plt.imshow(abs((dvdy+dwdz))/V[:,:,i],vmax=1,cmap='gray')\n",
    "# plt.imshow(dvdy+dwdz)\n",
    "plt.xticks([])\n",
    "plt.yticks([])\n",
    "plt.colorbar()\n",
    "plt.show()\n",
    "print(np.mean(abs((dvdy+dwdz))/V[:,:,i]))"
   ]
  },
  {
   "cell_type": "code",
   "execution_count": 22,
   "metadata": {},
   "outputs": [
    {
     "data": {
      "image/png": "[encoded data removed]",
      "text/plain": [
       "<Figure size 432x288 with 2 Axes>"
      ]
     },
     "metadata": {
      "needs_background": "light"
     },
     "output_type": "display_data"
    },
    {
     "name": "stdout",
     "output_type": "stream",
     "text": [
      "0.018370301037407732\n"
     ]
    }
   ],
   "source": [
    "## POD modes\n",
    "i = 0\n",
    "pltV = Q_POD_v[:,i];\n",
    "pltV = np.reshape(pltV,[2*ny,nz])\n",
    "modev = pltV[ny:,:]\n",
    "pltV = Q_POD_v[:,i];\n",
    "pltV = np.reshape(pltV,[2*ny,nz])\n",
    "modew = pltV[0:ny,:]\n",
    "pltV = Q_POD_v[:,i];\n",
    "pltV = np.reshape(pltV,[2*ny,nz])\n",
    "modeV = (pltV[0:ny,:]**2 + pltV[ny:,:]**2)**0.5\n",
    "dmodevdy = np.gradient(modev,y[1,0]-y[0,0],axis=0)\n",
    "dmodewdz = np.gradient(modew,z[1,0]-z[0,0],axis=1)\n",
    "plt.figure()\n",
    "plt.title('div(POD mode)')\n",
    "plt.imshow(abs((dmodevdy+dmodewdz))/modeV,vmax=1,cmap='gray')\n",
    "# plt.imshow(dmodevdy+dmodewdz)\n",
    "# plt.imshow(modeV)\n",
    "plt.xticks([])\n",
    "plt.yticks([])\n",
    "plt.colorbar()\n",
    "plt.show()\n",
    "print(np.mean(abs((dmodevdy+dmodewdz))/modeV))"
   ]
  },
  {
   "cell_type": "markdown",
   "metadata": {},
   "source": [
    "## Ranking"
   ]
  },
  {
   "cell_type": "code",
   "execution_count": null,
   "metadata": {},
   "outputs": [],
   "source": [
    "# reshape the modes from pod\n",
    "# how many modes to look at?\n",
    "number_of_modes = 10\n",
    "A = pod_v.A\n",
    "pod_modes = []\n",
    "for i in range(number_of_modes):\n",
    "    m1 = A[:,[i]]@Q_POD_v[:,[i]].T\n",
    "    m1 = np.reshape(m1,[len(A),2*ny,nz])\n",
    "    m2 = np.stack((m1[:,ny:,:],m1[:,0:ny,:]),axis=3)\n",
    "    pod_modes.append(m2)\n",
    "pod_modes = np.array(pod_modes) # has shape(mode,time,y,z,u)"
   ]
  },
  {
   "cell_type": "code",
   "execution_count": null,
   "metadata": {},
   "outputs": [],
   "source": [
    "# plot time coeficient A\n",
    "A = pod_v.A\n",
    "plt.figure()\n",
    "plt.title('pod time coefficient')\n",
    "for i in range(2):\n",
    "    plt.plot(A[:,i],label=i+1)\n",
    "plt.legend()\n",
    "plt.xlim([0,600])\n",
    "\n",
    "cov = A[:,:number_of_modes].T@A[:,:number_of_modes]/(A.shape[0]-1)\n",
    "vmax = np.max(cov)\n",
    "plt.figure()\n",
    "plt.title('A.T@A')\n",
    "plt.imshow(cov,cmap='seismic',vmin=-vmax,vmax=vmax,extent=[0.5,number_of_modes+0.5,number_of_modes+0.5,0.5])\n",
    "plt.xticks(np.arange(number_of_modes)+1)\n",
    "plt.yticks(np.arange(number_of_modes)+1)\n",
    "plt.colorbar()\n",
    "\n",
    "plt.show()\n",
    "\n",
    "sort_idx = np.argsort(np.diag(cov))\n",
    "rank_var = np.arange(1,number_of_modes+1)[np.flip(sort_idx)]\n",
    "print('rank:',rank_var)\n",
    "det = np.linalg.det(np.corrcoef(A.T))\n",
    "print('determinant of corr matrix: ',det) "
   ]
  },
  {
   "cell_type": "code",
   "execution_count": null,
   "metadata": {},
   "outputs": [],
   "source": [
    "## fft\n",
    "signal_in = A[:,0]# which one\n",
    "signal_fft = np.fft.fft(signal_in)\n",
    "signal_fft_power = np.abs(signal_fft)/signal_in.size\n",
    "signal_freq = np.fft.fftfreq(signal_in.size)\n",
    "signal_freq = signal_freq/dt\n",
    "# print(signal_freq.size/2)\n",
    "plt.figure()\n",
    "plt.bar(signal_freq[:int(signal_freq.size/2)],signal_fft_power[:int(signal_freq.size/2)])\n",
    "plt.ylim(bottom=0)\n",
    "plt.yticks([0])\n",
    "plt.xlim(left=0)\n",
    "loc,label = plt.xticks()\n",
    "loc = np.r_[0:max(loc):25]\n",
    "plt.xticks(loc)\n",
    "plt.show()"
   ]
  },
  {
   "cell_type": "code",
   "execution_count": null,
   "metadata": {},
   "outputs": [],
   "source": [
    "modes_E = np.copy(pod_modes)\n",
    "rank_mse = np.zeros(number_of_modes,dtype='int')-1\n",
    "for j in range(number_of_modes):\n",
    "    E_ref = 0\n",
    "    for i in range(number_of_modes):\n",
    "        if i not in rank_mse:\n",
    "            E = 1/mse(u_in,modes_E[i])\n",
    "            if E > E_ref:\n",
    "                E_ref = E\n",
    "                rank_mse[j] = i\n",
    "    modes_E = pod_modes + modes_E[rank_mse[j]]\n",
    "rank_mse += 1\n",
    "\n",
    "i_mse = []\n",
    "for i in range(number_of_modes):\n",
    "    i_mse.append(mse(u_in,pod_modes[i,:,:,:,:]))\n",
    "sort_idx = np.argsort(i_mse)\n",
    "rank_i_mse = np.arange(1,number_of_modes+1)[sort_idx]\n",
    "\n",
    "ke = np.sum((pod_modes**2),axis=(4,3,2,1))\n",
    "sort_idx = np.argsort(ke)\n",
    "rank_ke = np.arange(1,number_of_modes+1)[np.flip(sort_idx)]\n",
    "\n",
    "# print('rank_mse:            ',rank_mse)\n",
    "# print('rank_i_mse:          ',rank_i_mse)\n",
    "# print('rank_ke:             ',rank_ke)"
   ]
  },
  {
   "cell_type": "code",
   "execution_count": null,
   "metadata": {},
   "outputs": [],
   "source": [
    "np.array_equal(rank_ke,np.arange(number_of_modes)+1)"
   ]
  }
 ],
 "metadata": {
  "kernelspec": {
   "display_name": "Python 3.9.7 ('MD-CNN-AE')",
   "language": "python",
   "name": "python3"
  },
  "language_info": {
   "codemirror_mode": {
    "name": "ipython",
    "version": 3
   },
   "file_extension": ".py",
   "mimetype": "text/x-python",
   "name": "python",
   "nbconvert_exporter": "python",
   "pygments_lexer": "ipython3",
   "version": "3.9.7"
  },
  "vscode": {
   "interpreter": {
    "hash": "c903802becab09e4b70ebb5c23f660ee79baa8b794afe13fe5f0f9b40ff7ce9c"
   }
  }
 },
 "nbformat": 4,
 "nbformat_minor": 4
}
