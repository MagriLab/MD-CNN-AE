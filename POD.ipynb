{
 "cells": [
  {
   "cell_type": "markdown",
   "metadata": {},
   "source": [
    "## Run POD on the downsampled PIV data/results from autoencoder\n",
    "originally a matlab script"
   ]
  },
  {
   "cell_type": "code",
   "execution_count": 1,
   "metadata": {},
   "outputs": [],
   "source": [
    "import h5py\n",
    "import numpy as np\n",
    "from matplotlib import pyplot as plt"
   ]
  },
  {
   "cell_type": "code",
   "execution_count": 2,
   "metadata": {},
   "outputs": [],
   "source": [
    "# parameters\n",
    "D       = 196.5;    # Model diameter in mm\n",
    "Uinf    = 15;       # Nominal free stream velocity\n",
    "fPIV    = 720;      # PIV sampling frequency\n",
    "dt      = 1/fPIV;   # Delta t between image pairs"
   ]
  },
  {
   "cell_type": "code",
   "execution_count": 37,
   "metadata": {},
   "outputs": [
    {
     "name": "stdout",
     "output_type": "stream",
     "text": [
      "Finished loading data.\n"
     ]
    }
   ],
   "source": [
    "#=================== downsampled data ======================\n",
    "filename = \"../PIV4_downsampled_by8.h5\" # .h5 file of data\n",
    "hf = h5py.File(filename,'r')\n",
    "z = np.array(hf.get('z'))\n",
    "y = np.array(hf.get('y'))\n",
    "vy = np.array(hf.get('vy'))\n",
    "vz = np.array(hf.get('vz'))\n",
    "hf.close()\n",
    "print(\"Finished loading data.\")\n",
    "# print(vy.shape)\n",
    "[nt,nz,ny] = vz.shape\n",
    "\n",
    "vy = np.transpose(vy,[2,1,0])\n",
    "vz = np.transpose(vz,[2,1,0]) #(ny,nz,nt)"
   ]
  },
  {
   "cell_type": "code",
   "execution_count": 28,
   "metadata": {},
   "outputs": [
    {
     "name": "stdout",
     "output_type": "stream",
     "text": [
      "Finished loading data.\n",
      "2 600 21 24 2\n",
      "(21, 24, 600)\n"
     ]
    }
   ],
   "source": [
    "#================= autoencoder data ========================\n",
    "filename = '../../../Scripts/PIV/Autoencoder/MD_2__2022_02_02__16_51_24/results.h5'\n",
    "hf = h5py.File(filename,'r')\n",
    "decomp_test = np.array(hf.get('modes_test'))\n",
    "hf.close()\n",
    "print(\"Finished loading data.\")\n",
    "[latent_dim,nt,ny,nz,nu] = decomp_test.shape\n",
    "print(latent_dim,nt,ny,nz,nu)\n",
    "\n",
    "WhichDecoder = 0\n",
    "vy = decomp_test[WhichDecoder,:,:,:,0].astype('float64')\n",
    "vy = np.transpose(vy,[1,2,0])\n",
    "vz = decomp_test[WhichDecoder,:,:,:,1].astype('float64')\n",
    "vz = np.transpose(vz,[1,2,0])\n",
    "print(vz.shape)"
   ]
  },
  {
   "cell_type": "code",
   "execution_count": 38,
   "metadata": {},
   "outputs": [
    {
     "name": "stdout",
     "output_type": "stream",
     "text": [
      "(1008, 2732)\n",
      "Use classic POD, Nx < Nt.\n"
     ]
    }
   ],
   "source": [
    "#==================== prepare data =========================\n",
    "# build matrix\n",
    "Q = np.vstack((vz,vy)) # new shape [2*ny,nz,nt]\n",
    "Q = np.reshape(Q,(2*nz*ny,nt)) # [2*ny*nz,nt]\n",
    "v_true = np.copy(Q)\n",
    "print(Q.shape)\n",
    "\n",
    "# remove mean\n",
    "x_mean = np.mean(Q,axis=1)\n",
    "for ti in range(0,nt):\n",
    "    Q[:,ti] = Q[:,ti] - x_mean;\n",
    "\n",
    "weight = np.ones((2*ny*nz,1))\n",
    "# choose POD method\n",
    "if Q.shape[1] > Q.shape[0]:\n",
    "    TypePOD = 1\n",
    "    print(\"Use classic POD, Nx < Nt.\")\n",
    "else:\n",
    "    TypePOD = 2\n",
    "    print(\"Use snapshot POD, Nx > Nt.\")"
   ]
  },
  {
   "cell_type": "code",
   "execution_count": 39,
   "metadata": {},
   "outputs": [
    {
     "name": "stdout",
     "output_type": "stream",
     "text": [
      "Calculating POD...\n",
      "POD done.\n"
     ]
    },
    {
     "name": "stderr",
     "output_type": "stream",
     "text": [
      "C:\\Users\\ym917\\AppData\\Local\\Temp\\ipykernel_16476\\3103656413.py:12: RuntimeWarning: invalid value encountered in sqrt\n",
      "  normQ = (np.matmul(Q_POD.T,Q_POD*weight).real)**0.5\n"
     ]
    }
   ],
   "source": [
    "#================== Calculate POD ==========================\n",
    "print(\"Calculating POD...\")\n",
    "# TypePOD = 1\n",
    "if TypePOD == 1:\n",
    "    C = Q @ ((Q.T)*(weight.T)) # 2-point spatial correlation tesnsor: Q*Q'\n",
    "    lam,Phi = np.linalg.eigh(C) # right eigenvectors and eigenvalues\n",
    "    idx = np.argsort(lam) # sort\n",
    "    idx = np.flip(idx)\n",
    "    Q_POD = Phi[:,idx]\n",
    "    lam = lam[idx]\n",
    "    # normalise energy in the weighted inner product\n",
    "    normQ = (np.matmul(Q_POD.T,Q_POD*weight).real)**0.5\n",
    "    Q_POD = Q_POD@np.diag(1/np.diag(normQ))\n",
    "elif TypePOD == 2:\n",
    "    C = (Q.T) @ (Q*weight) # 2-point temporal correlation tesnsor: Q'*Q \n",
    "    lam,Phi = np.linalg.eigh(C)\n",
    "    idx = np.argsort(np.abs(lam)) # sort\n",
    "    idx = np.flip(idx)\n",
    "    Phi = Phi[:,idx]\n",
    "    lam = lam[idx]\n",
    "    # get spatial POD modes: PSI = Q*Phi\n",
    "    Q_POD = (Q@Phi)*(1/(lam**0.5).T)\n",
    "\n",
    "print(\"POD done.\")"
   ]
  },
  {
   "cell_type": "code",
   "execution_count": 40,
   "metadata": {},
   "outputs": [
    {
     "data": {
      "image/png": "[encoded data removed]",
      "text/plain": [
       "<Figure size 432x288 with 18 Axes>"
      ]
     },
     "metadata": {
      "needs_background": "light"
     },
     "output_type": "display_data"
    }
   ],
   "source": [
    "#======================= plot ==============================\n",
    "PlotWhichVelocity = 'v' \n",
    "\n",
    "fig = plt.figure(1)\n",
    "title = \"Mode in decoder \" + str(WhichDecoder+1)\n",
    "# title = \"POD Modes \"+PlotWhichVelocity\n",
    "plt.suptitle(title)\n",
    "for iphi in range(9):\n",
    "    ax = plt.subplot(3,3,iphi+1,title=str(iphi+1),xticks=[],yticks=[])\n",
    "    pltV = Q_POD[:,iphi];\n",
    "    pltV = np.reshape(pltV,[2*ny,nz])\n",
    "    if PlotWhichVelocity == 'w': # Q was built [vz,vy]\n",
    "        pltV = pltV[0:ny,:]\n",
    "    elif PlotWhichVelocity == 'v':\n",
    "        pltV = pltV[ny:,:]\n",
    "    elif PlotWhichVelocity == 'V':\n",
    "        pltV = (pltV[0:ny,:]**2 + pltV[ny:,:]**2)**0.5\n",
    "    \n",
    "    ax = plt.imshow(pltV,'jet')\n",
    "    plt.colorbar()"
   ]
  },
  {
   "cell_type": "code",
   "execution_count": 55,
   "metadata": {},
   "outputs": [
    {
     "data": {
      "text/plain": [
       "0.9936645267358626"
      ]
     },
     "execution_count": 55,
     "metadata": {},
     "output_type": "execute_result"
    }
   ],
   "source": [
    "energy[599]"
   ]
  },
  {
   "cell_type": "code",
   "execution_count": 51,
   "metadata": {},
   "outputs": [
    {
     "data": {
      "image/png": "[encoded data removed]",
      "text/plain": [
       "<Figure size 432x288 with 1 Axes>"
      ]
     },
     "metadata": {
      "needs_background": "light"
     },
     "output_type": "display_data"
    }
   ],
   "source": [
    "#================== plot spectrum =================================\n",
    "energy = np.cumsum(lam/np.sum(lam))\n",
    "plt.figure()\n",
    "plt.title('POD energy spectrum')\n",
    "plt.plot(energy)\n",
    "plt.ylabel('energy')\n",
    "plt.xlabel('mode')\n",
    "plt.show()"
   ]
  },
  {
   "cell_type": "code",
   "execution_count": 68,
   "metadata": {},
   "outputs": [
    {
     "data": {
      "image/png": "[encoded data removed]",
      "text/plain": [
       "<Figure size 432x288 with 8 Axes>"
      ]
     },
     "metadata": {
      "needs_background": "light"
     },
     "output_type": "display_data"
    }
   ],
   "source": [
    "\n",
    "#=================== reconstruct (snapshot method) ==========================\n",
    "time = 0 # which snapshot?\n",
    "modes = np.array([1,17,600,1008])\n",
    "PlotWhichVelocity = 2 # 1 -> v, 2 -> w, 3 -> V\n",
    "plt.figure(2)\n",
    "plt.suptitle(\"reconstructed with % modes\")\n",
    "\n",
    "for i in range(4):\n",
    "    if TypePOD ==1:\n",
    "        # temporal coefficient A\n",
    "        A = Q.T @ Phi #(nt,nx)\n",
    "        Q_add = Phi[:,0:modes[i]] @ A[:,0:modes[i]].T\n",
    "        Q_add = Q_add[:,time]\n",
    "    elif TypePOD == 2:\n",
    "        # spatial coefficient A\n",
    "        A = Q @ Phi #(nx,nt)\n",
    "        Q_add = A[:,0:modes[i]] @ Phi[:,0:modes[i]].T\n",
    "        Q_add = Q_add[:,time]\n",
    "\n",
    "    rebuildv = x_mean + Q_add # add contribution\n",
    "    rebuildv = np.reshape(rebuildv,[2,ny,nz]) # new shape (2,ny,nz). Velocity 1 is v. Velocity 2 is w.\n",
    "\n",
    "    if PlotWhichVelocity == 2:\n",
    "        rebuildv = rebuildv[0,:,:]\n",
    "    elif PlotWhichVelocity == 1:\n",
    "        rebuildv = rebuildv[1,:,:]\n",
    "    elif PlotWhichVelocity == 3:\n",
    "        rebuildv = (rebuildv[0,:,:]**2 + rebuildv[1,:,:]**2)**0.5\n",
    "\n",
    "    ax = plt.subplot(2,2,i+1,title=str(modes[i]),xticks=[],yticks=[])\n",
    "    ax = plt.imshow(rebuildv.real,'jet')\n",
    "    plt.colorbar()\n",
    "plt.show()"
   ]
  },
  {
   "cell_type": "code",
   "execution_count": 43,
   "metadata": {},
   "outputs": [
    {
     "data": {
      "image/png": "[encoded data removed]",
      "text/plain": [
       "<Figure size 432x288 with 2 Axes>"
      ]
     },
     "metadata": {
      "needs_background": "light"
     },
     "output_type": "display_data"
    }
   ],
   "source": [
    "#==================== actual flow =========================\n",
    "time = 0\n",
    "PlotWhichVelocity = 2\n",
    "\n",
    "v = vy[:,:,time]\n",
    "w = vz[:,:,time]\n",
    "V = (v**2 + w**2)**0.5\n",
    "\n",
    "plt.figure(3)\n",
    "ax = plt.subplot(1,1,1,title=\"actual flow\",xticks=[],yticks=[])\n",
    "if PlotWhichVelocity == 1:\n",
    "    ax = plt.imshow(v,'jet')\n",
    "elif PlotWhichVelocity == 2:\n",
    "    ax = plt.imshow(w,'jet')\n",
    "elif PlotWhichVelocity == 3:\n",
    "    ax = plt.imshow(V,'jet')\n",
    "plt.colorbar()\n",
    "plt.show()"
   ]
  },
  {
   "cell_type": "code",
   "execution_count": 66,
   "metadata": {},
   "outputs": [
    {
     "name": "stdout",
     "output_type": "stream",
     "text": [
      "mean absolute error per snapshot 849.9681883845212\n"
     ]
    }
   ],
   "source": [
    "# =============================== Absolute error =============================== \n",
    "i = 600\n",
    "\n",
    "if TypePOD ==1:\n",
    "    # temporal coefficient A\n",
    "    A = Q.T @ Phi #(nt,nx)\n",
    "    Q_add = Phi[:,:i] @ A[:,:i].T\n",
    "elif TypePOD == 2:\n",
    "    # spatial coefficient A\n",
    "    A = Q @ Phi #(nx,nt)\n",
    "    Q_add = A[:,:i] @ Phi[:,:i].T\n",
    "\n",
    "\n",
    "rebuildv = x_mean[:,None] + Q_add # add contribution\n",
    "e = np.abs(rebuildv-v_true) \n",
    "e_mean = np.sum(e)/nt\n",
    "print('mean absolute error per snapshot',e_mean)"
   ]
  }
 ],
 "metadata": {
  "interpreter": {
   "hash": "6df908de1f4850b5dcb2ce91888b76129a7e151e6ab8f38caf16f5b794c79bc1"
  },
  "kernelspec": {
   "display_name": "Python 3.8.5 64-bit ('base': conda)",
   "language": "python",
   "name": "python3"
  },
  "language_info": {
   "codemirror_mode": {
    "name": "ipython",
    "version": 3
   },
   "file_extension": ".py",
   "mimetype": "text/x-python",
   "name": "python",
   "nbconvert_exporter": "python",
   "pygments_lexer": "ipython3",
   "version": "3.9.7"
  },
  "orig_nbformat": 4
 },
 "nbformat": 4,
 "nbformat_minor": 2
}
