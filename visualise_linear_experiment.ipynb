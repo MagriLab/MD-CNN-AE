{
 "cells": [
  {
   "cell_type": "code",
   "execution_count": 1,
   "metadata": {},
   "outputs": [
    {
     "name": "stderr",
     "output_type": "stream",
     "text": [
      "2022-07-27 16:41:59.702345: W tensorflow/stream_executor/platform/default/dso_loader.cc:64] Could not load dynamic library 'libcudart.so.11.0'; dlerror: libcudart.so.11.0: cannot open shared object file: No such file or directory\n",
      "2022-07-27 16:41:59.702368: I tensorflow/stream_executor/cuda/cudart_stub.cc:29] Ignore above cudart dlerror if you do not have a GPU set up on your machine.\n"
     ]
    }
   ],
   "source": [
    "import h5py\n",
    "import h5py\n",
    "import numpy as np\n",
    "from numpy import einsum\n",
    "import matplotlib.pyplot as plt\n",
    "from mpl_toolkits.axes_grid1 import ImageGrid\n",
    "from mpl_toolkits.axes_grid1.axes_divider import make_axes_locatable\n",
    "\n",
    "import configparser\n",
    "import os\n",
    "from os.path import join as pjoin\n",
    "import json\n",
    "\n",
    "import tensorflow as tf\n",
    "tf.keras.backend.set_floatx('float32')\n",
    "from tensorflow.keras.optimizers import Adam\n",
    "from tensorflow.keras.losses import MeanSquaredError\n",
    "mse = MeanSquaredError()\n",
    "\n",
    "import MD_AE_tools.models.models as mdl_bias\n",
    "import MD_AE_tools.models.models_no_bias as mdl_nobias\n",
    "from project_specific_utils.helpers import GetAttr\n",
    "import MD_AE_tools.mode_decomposition as md\n",
    "from project_specific_utils.data_and_train import TrainNN_from_config"
   ]
  },
  {
   "cell_type": "markdown",
   "metadata": {},
   "source": [
    "# Linear MD-CNN-AE"
   ]
  },
  {
   "cell_type": "code",
   "execution_count": 3,
   "metadata": {},
   "outputs": [
    {
     "name": "stdout",
     "output_type": "stream",
     "text": [
      "u_bias1-3473606  u_bias4-3473269  u_bias6-3473611  u_bias9-3473614\n",
      "u_bias2-3473607  u_bias4-3473609  u_bias7-3473612  u_bias10-3473615\n",
      "u_bias3-3473608  u_bias5-3473610  u_bias8-3473613\n"
     ]
    }
   ],
   "source": [
    "parent_folder = '/home/ym917/Documents/Results/experiment_linear_standard_ae'\n",
    "!ls -v $parent_folder"
   ]
  },
  {
   "cell_type": "code",
   "execution_count": 4,
   "metadata": {},
   "outputs": [],
   "source": [
    "folder = 'u_bias1-3473606'\n",
    "folder_path = pjoin(parent_folder,folder)\n",
    "filename = pjoin(folder_path,'training_param.ini')\n",
    "linear = TrainNN_from_config(filename)\n",
    "\n",
    "filename = pjoin(folder_path,'results.h5')\n",
    "with h5py.File(filename,'r') as hf:\n",
    "    u_train = np.array(hf.get('u_train'))\n",
    "    u_all = np.array(hf.get('u_all'))\n",
    "    y_train = np.array(hf.get('y_train'))\n",
    "    modes_train = np.array(hf.get('modes_train'))"
   ]
  },
  {
   "cell_type": "code",
   "execution_count": null,
   "metadata": {},
   "outputs": [],
   "source": [
    "mdl = mdl_bias.MD_Autoencoder(linear.Nx,linear.Nu,linear.features_layers,linear.latent_dim,linear.filter_window, linear.act_fct, linear.BATCH_NORM, linear.drop_rate, linear.lmb, )\n",
    "mdl.compile(optimizer=Adam(learning_rate=linear.learning_rate),loss='mse')\n",
    "_ = mdl.predict(np.squeeze(u_train))"
   ]
  },
  {
   "cell_type": "code",
   "execution_count": null,
   "metadata": {},
   "outputs": [],
   "source": [
    "filename = pjoin(folder_path,'md_ae_model.h5')\n",
    "mdl.load_weights(filename)\n",
    "print('MSE of traning is: ', mse(u_train,y_train).numpy())\n",
    "# mdl.summary()"
   ]
  },
  {
   "cell_type": "code",
   "execution_count": null,
   "metadata": {},
   "outputs": [],
   "source": [
    "decoders = mdl.get_decoders()"
   ]
  },
  {
   "cell_type": "code",
   "execution_count": null,
   "metadata": {},
   "outputs": [],
   "source": [
    "b1 = decoders[0].predict(np.reshape(0,(1,1)))\n",
    "wb1 = decoders[0].predict(np.reshape(1,(1,1)))\n",
    "w1 = wb1-b1\n",
    "b2 = decoders[1].predict(np.reshape(0,(1,1)))\n",
    "wb2 = decoders[1].predict(np.reshape(1,(1,1)))\n",
    "w2 = wb2-b2\n",
    "\n",
    "# weights\n",
    "fig, ax = plt.subplots(2,2,sharey='all')\n",
    "fig.suptitle('decoder weights')\n",
    "im1v = ax[0,0].imshow(w1[0,:,:,0],'jet')\n",
    "div = make_axes_locatable(ax[0,0])\n",
    "cax = div.append_axes('right',size='5%',pad='2%')\n",
    "plt.colorbar(im1v,cax=cax)\n",
    "im1w = ax[1,0].imshow(w1[0,:,:,1],'jet')\n",
    "div = make_axes_locatable(ax[1,0])\n",
    "cax = div.append_axes('right',size='5%',pad='2%')\n",
    "plt.colorbar(im1w,cax=cax)\n",
    "im2v = ax[0,1].imshow(w2[0,:,:,0],'jet')\n",
    "div = make_axes_locatable(ax[0,1])\n",
    "cax = div.append_axes('right',size='5%',pad='2%')\n",
    "plt.colorbar(im2v,cax=cax)\n",
    "im2w = ax[1,1].imshow(w2[0,:,:,1],'jet')\n",
    "div = make_axes_locatable(ax[1,1])\n",
    "cax = div.append_axes('right',size='5%',pad='2%')\n",
    "plt.colorbar(im2w,cax=cax)\n",
    "ax[0,0].set_title('1')\n",
    "ax[0,1].set_title('2')\n",
    "ax[0,0].set_ylabel('v')\n",
    "ax[1,0].set_ylabel('w')\n",
    "\n",
    "# bias\n",
    "fig, ax = plt.subplots(2,2,sharey='all')\n",
    "fig.suptitle('decoder bias')\n",
    "im1v = ax[0,0].imshow(b1[0,:,:,0],'jet')\n",
    "div = make_axes_locatable(ax[0,0])\n",
    "cax = div.append_axes('right',size='5%',pad='2%')\n",
    "plt.colorbar(im1v,cax=cax)\n",
    "im1w = ax[1,0].imshow(b1[0,:,:,1],'jet')\n",
    "div = make_axes_locatable(ax[1,0])\n",
    "cax = div.append_axes('right',size='5%',pad='2%')\n",
    "plt.colorbar(im1w,cax=cax)\n",
    "im2v = ax[0,1].imshow(b2[0,:,:,0],'jet')\n",
    "div = make_axes_locatable(ax[0,1])\n",
    "cax = div.append_axes('right',size='5%',pad='2%')\n",
    "plt.colorbar(im2v,cax=cax)\n",
    "im2w = ax[1,1].imshow(b2[0,:,:,1],'jet')\n",
    "div = make_axes_locatable(ax[1,1])\n",
    "cax = div.append_axes('right',size='5%',pad='2%')\n",
    "plt.colorbar(im2w,cax=cax)\n",
    "ax[0,0].set_title('1')\n",
    "ax[0,1].set_title('2')\n",
    "ax[0,0].set_ylabel('v')\n",
    "ax[1,0].set_ylabel('w')\n",
    "plt.show()"
   ]
  },
  {
   "cell_type": "code",
   "execution_count": 5,
   "metadata": {},
   "outputs": [
    {
     "name": "stdout",
     "output_type": "stream",
     "text": [
      "Calculating POD ...\n",
      "Use classic POD, Nx <= Nt.\n",
      "POD done.\n",
      "MSE reconstructed with 2 modes is:  1.4704580307006836\n"
     ]
    },
    {
     "name": "stderr",
     "output_type": "stream",
     "text": [
      "/home/ym917/Documents/Codes/MD-CNN-AE/MD_AE_tools/mode_decomposition.py:189: RuntimeWarning: invalid value encountered in sqrt\n",
      "  normQ = (Q_POD.T @ Q_POD*self.w).real**0.5\n",
      "2022-07-27 16:42:41.733128: W tensorflow/stream_executor/platform/default/dso_loader.cc:64] Could not load dynamic library 'libcuda.so.1'; dlerror: libcuda.so.1: cannot open shared object file: No such file or directory\n",
      "2022-07-27 16:42:41.733162: W tensorflow/stream_executor/cuda/cuda_driver.cc:269] failed call to cuInit: UNKNOWN ERROR (303)\n",
      "2022-07-27 16:42:41.733181: I tensorflow/stream_executor/cuda/cuda_diagnostics.cc:156] kernel driver does not appear to be running on this host (ic-5rpzl43): /proc/driver/nvidia/version does not exist\n",
      "2022-07-27 16:42:41.733561: I tensorflow/core/platform/cpu_feature_guard.cc:151] This TensorFlow binary is optimized with oneAPI Deep Neural Network Library (oneDNN) to use the following CPU instructions in performance-critical operations:  AVX2 FMA\n",
      "To enable them in other operations, rebuild TensorFlow with the appropriate compiler flags.\n"
     ]
    }
   ],
   "source": [
    "x = einsum('t y z u -> y z t u',np.squeeze(u_train))\n",
    "X = np.vstack((x[:,:,:,0],x[:,:,:,1]))\n",
    "pod = md.POD(X)\n",
    "Q_POD,lam_data = pod.get_modes()\n",
    "Q_mean = pod.Q_mean\n",
    "X_reconstructed = pod.reconstruct(2,shape=X.shape)\n",
    "print('MSE reconstructed with 2 modes is: ', mse(X,X_reconstructed).numpy())"
   ]
  },
  {
   "cell_type": "code",
   "execution_count": 6,
   "metadata": {},
   "outputs": [
    {
     "data": {
      "image/png": "[encoded data removed]",
      "text/plain": [
       "<Figure size 432x288 with 4 Axes>"
      ]
     },
     "metadata": {
      "needs_background": "light"
     },
     "output_type": "display_data"
    },
    {
     "data": {
      "image/png": "[encoded data removed]",
      "text/plain": [
       "<Figure size 396x129.6 with 4 Axes>"
      ]
     },
     "metadata": {
      "needs_background": "light"
     },
     "output_type": "display_data"
    }
   ],
   "source": [
    "phi1 = Q_POD[:,0].reshape((42,24))\n",
    "phi2 = Q_POD[:,1].reshape((42,24))\n",
    "fig = plt.figure()\n",
    "fig.suptitle('POD modes of the training set')\n",
    "plt.subplot(221)\n",
    "plt.imshow(phi1[:21,:],'jet')\n",
    "plt.subplot(223)\n",
    "plt.imshow(phi1[21:,:],'jet')\n",
    "plt.subplot(222)\n",
    "plt.imshow(phi2[:21,:],'jet')\n",
    "plt.subplot(224)\n",
    "plt.imshow(phi2[21:,:],'jet')\n",
    "\n",
    "\n",
    "plt.figure(figsize=(5.5,1.8))\n",
    "plt.suptitle('mean of the training set')\n",
    "u_train_mean = np.mean(np.squeeze(u_train),axis=0)\n",
    "plt.subplot(121)\n",
    "plt.imshow(u_train_mean[:,:,0],'jet')\n",
    "plt.colorbar()\n",
    "plt.subplot(122)\n",
    "plt.imshow(u_train_mean[:,:,1],'jet')\n",
    "plt.colorbar()\n",
    "plt.show()"
   ]
  },
  {
   "cell_type": "code",
   "execution_count": 7,
   "metadata": {},
   "outputs": [
    {
     "data": {
      "image/png": "[encoded data removed]",
      "text/plain": [
       "<Figure size 720x360 with 1 Axes>"
      ]
     },
     "metadata": {
      "needs_background": "light"
     },
     "output_type": "display_data"
    }
   ],
   "source": [
    "# reproject autoencoder modes onto data pod modes\n",
    "x_train = einsum('k t y z u -> k y z t u',modes_train)\n",
    "lam_modes = [] # how much of a POD is in an AE mode\n",
    "for i in range(linear.latent_dim):\n",
    "    X_train = np.vstack((x_train[i,:,:,:,0],x_train[i,:,:,:,1]))\n",
    "    X_train = np.reshape(X_train,(-1,linear.Ntrain))\n",
    "    A = einsum('x t, x m -> t m', X_train, Q_POD) # project\n",
    "    lam_1 = einsum('t m -> m',A**2) / (linear.Ntrain - 1)\n",
    "    lam_modes.append(lam_1)\n",
    "lam_modes = np.array(lam_modes)\n",
    "lam_modes_percent = lam_modes/lam_data\n",
    "\n",
    "plt.figure(figsize=(10,5))\n",
    "for i in range(linear.latent_dim):\n",
    "    plt.plot(lam_modes[i,:],label=i+1,linestyle='--',marker='x')\n",
    "plt.plot(lam_data,label='data')\n",
    "plt.xlim([-1,20])\n",
    "plt.ylim(bottom=0)\n",
    "plt.ylabel('variance of the POD axis (eigenvalues)')\n",
    "plt.xlabel('POD mode')\n",
    "plt.legend()\n",
    "\n",
    "plt.show()"
   ]
  },
  {
   "cell_type": "markdown",
   "metadata": {},
   "source": [
    "# Nonlinear"
   ]
  },
  {
   "cell_type": "code",
   "execution_count": null,
   "metadata": {},
   "outputs": [],
   "source": [
    "parent_folder = '/home/ym917/Documents/Results/experiment_nonlinear'\n",
    "!ls -v $parent_folder\n",
    "folder_list = ! ls -v $parent_folder | grep 2_mode*\n",
    "# !tail -n 5 $parent_folder/*/log"
   ]
  },
  {
   "cell_type": "code",
   "execution_count": null,
   "metadata": {},
   "outputs": [],
   "source": [
    "print(folder_list)"
   ]
  },
  {
   "cell_type": "code",
   "execution_count": null,
   "metadata": {},
   "outputs": [],
   "source": [
    "folder = '2_mode10-4022815'\n",
    "folder_path = pjoin(parent_folder,folder)\n",
    "filename = pjoin(folder_path,'training_param.ini')\n",
    "nonlinear = TrainNN_from_config(filename)\n",
    "\n",
    "filename = pjoin(folder_path,'results.h5')\n",
    "with h5py.File(filename,'r') as hf:\n",
    "    u_train = np.array(hf.get('u_train'))\n",
    "    u_all = np.array(hf.get('u_all'))\n",
    "    y_train = np.array(hf.get('y_train'))\n",
    "    modes_train = np.array(hf.get('modes_train'))\n",
    "\n",
    "print('MSE of traning is: ', mse(u_train,y_train).numpy())"
   ]
  },
  {
   "cell_type": "code",
   "execution_count": null,
   "metadata": {},
   "outputs": [],
   "source": [
    "## data \n",
    "x = einsum('t y z u -> y z t u',np.squeeze(u_train))\n",
    "X = np.vstack((x[:,:,:,0],x[:,:,:,1]))\n",
    "pod = md.POD(X)\n",
    "Q_POD,lam_data = pod.get_modes()\n",
    "Q_mean = pod.Q_mean\n",
    "X_reconstructed = pod.reconstruct(2,shape=X.shape)\n",
    "print('MSE reconstructed with 2 modes is: ', mse(X,X_reconstructed).numpy())\n",
    "\n",
    "phi1 = Q_POD[:,0].reshape((42,24))\n",
    "phi2 = Q_POD[:,1].reshape((42,24))\n",
    "fig = plt.figure()\n",
    "fig.suptitle('POD modes of the training set')\n",
    "plt.subplot(221)\n",
    "plt.imshow(phi1[:21,:],'jet')\n",
    "plt.colorbar()\n",
    "plt.subplot(223)\n",
    "plt.imshow(phi1[21:,:],'jet')\n",
    "plt.colorbar()\n",
    "plt.subplot(222)\n",
    "plt.imshow(phi2[:21,:],'jet')\n",
    "plt.colorbar()\n",
    "plt.subplot(224)\n",
    "plt.imshow(phi2[21:,:],'jet')\n",
    "plt.colorbar()\n",
    "plt.show()"
   ]
  },
  {
   "cell_type": "code",
   "execution_count": null,
   "metadata": {},
   "outputs": [],
   "source": [
    "# reproject autoencoder modes onto data pod modes\n",
    "x_train = einsum('k t y z u -> k y z t u',modes_train)\n",
    "lam_modes = [] # how much of a POD is in an AE mode\n",
    "for i in range(nonlinear.latent_dim):\n",
    "    X_train = np.vstack((x_train[i,:,:,:,0],x_train[i,:,:,:,1]))\n",
    "    X_train = np.reshape(X_train,(-1,nonlinear.Ntrain))\n",
    "    A = einsum('x t, x m -> t m', X_train, Q_POD) # project\n",
    "    lam_1 = einsum('t m -> m',A**2) / (nonlinear.Ntrain - 1)\n",
    "    lam_modes.append(lam_1)\n",
    "lam_modes = np.array(lam_modes)\n",
    "lam_modes_percent = lam_modes/lam_data"
   ]
  },
  {
   "cell_type": "code",
   "execution_count": null,
   "metadata": {},
   "outputs": [],
   "source": [
    "plt.figure(figsize=(10,5))\n",
    "for i in range(nonlinear.latent_dim):\n",
    "    plt.plot(lam_modes[i,:],label=i+1,linestyle='--',marker='x')\n",
    "plt.plot(lam_data,label='data')\n",
    "plt.xlim([-1,20])\n",
    "plt.ylim(bottom=0)\n",
    "plt.ylabel('variance of the POD axis (eigenvalues)')\n",
    "plt.xlabel('POD mode')\n",
    "plt.legend()\n",
    "\n",
    "plt.figure(figsize=(10,5))\n",
    "for i in range(nonlinear.latent_dim):\n",
    "    plt.plot(lam_modes_percent[i,:],label=i+1,linestyle='--',marker='x')\n",
    "plt.xlim([-1,20])\n",
    "plt.ylim([0,1])\n",
    "plt.legend()\n",
    "plt.xlabel('POD mode')\n",
    "plt.title('precentage of POD modes captured')\n",
    "\n",
    "plt.show()"
   ]
  },
  {
   "cell_type": "code",
   "execution_count": null,
   "metadata": {},
   "outputs": [],
   "source": [
    "## save reporjected results to csv\n",
    "\n",
    "# csv1 = pjoin(parent_folder,'grouping_modes_1.csv')\n",
    "# csv2 = pjoin(parent_folder,'grouping_modes_2.csv')\n",
    "# with open(csv1,'a') as f1, open(csv2,'a') as f2:\n",
    "#     if lam_modes[0,0] > lam_modes[1,0]:\n",
    "#         np.savetxt(f1,lam_modes_percent[[0],:],delimiter=',')\n",
    "#         np.savetxt(f2,lam_modes_percent[[1],:],delimiter=',')\n",
    "#     elif lam_modes[1,0] > lam_modes[0,0]:\n",
    "#         np.savetxt(f1,lam_modes_percent[[1],:],delimiter=',')\n",
    "#         np.savetxt(f2,lam_modes_percent[[0],:],delimiter=',')"
   ]
  },
  {
   "cell_type": "markdown",
   "metadata": {},
   "source": [
    "### From CSV, calculate average"
   ]
  },
  {
   "cell_type": "code",
   "execution_count": null,
   "metadata": {},
   "outputs": [],
   "source": [
    "## load reprojected results from csv\n",
    "\n",
    "csv1 = pjoin(parent_folder,'grouping_modes_1.csv')\n",
    "csv2 = pjoin(parent_folder,'grouping_modes_2.csv')\n",
    "\n",
    "lam_modes_total1 = np.loadtxt(csv1, delimiter=',')\n",
    "lam_modes_total2 = np.loadtxt(csv2, delimiter=',')"
   ]
  },
  {
   "cell_type": "code",
   "execution_count": null,
   "metadata": {},
   "outputs": [],
   "source": [
    "l1_mean = np.mean(lam_modes_total1,axis=0)\n",
    "l1_std = np.std(lam_modes_total1,axis=0)\n",
    "l2_mean = np.mean(lam_modes_total2,axis=0)\n",
    "l2_std = np.std(lam_modes_total2,axis=0)\n",
    "\n",
    "fig, (ax1,ax2) = plt.subplots(nrows=2,ncols=1,sharex=True,sharey=True, figsize=(6,6))\n",
    "fig.suptitle('Re-projecting autoencoder mode to data POD mode (onto eigenvector)')\n",
    "ax1.set_title('autoencoder mode primarily made up of POD mode 1')\n",
    "ax1.errorbar(np.arange(1,len(l1_mean+1)+1),l1_mean*100, yerr=l1_std*100, fmt='s', capsize=2)\n",
    "ax1.set_xticks(np.arange(1,len(l1_mean+1)+1))\n",
    "ax1.set_xlim([0.5,10.5])\n",
    "ax1.set_ylim([0,100])\n",
    "ax2.set_title('the other autoencoder mode')\n",
    "ax2.errorbar(np.arange(1,len(l1_mean+1)+1),l2_mean*100, yerr=l2_std*100, fmt='s', capsize=2)\n",
    "ax2.set_ylabel(\"% of data POD mode\")\n",
    "ax2.set_xlabel('POD mode of data')\n",
    "plt.show()"
   ]
  }
 ],
 "metadata": {
  "kernelspec": {
   "display_name": "Python 3.9.7 ('MD-CNN-AE')",
   "language": "python",
   "name": "python3"
  },
  "language_info": {
   "codemirror_mode": {
    "name": "ipython",
    "version": 3
   },
   "file_extension": ".py",
   "mimetype": "text/x-python",
   "name": "python",
   "nbconvert_exporter": "python",
   "pygments_lexer": "ipython3",
   "version": "3.9.7"
  },
  "orig_nbformat": 4,
  "vscode": {
   "interpreter": {
    "hash": "c903802becab09e4b70ebb5c23f660ee79baa8b794afe13fe5f0f9b40ff7ce9c"
   }
  }
 },
 "nbformat": 4,
 "nbformat_minor": 2
}
